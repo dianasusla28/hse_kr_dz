{
  "nbformat": 4,
  "nbformat_minor": 0,
  "metadata": {
    "kernelspec": {
      "display_name": "Python 3",
      "language": "python",
      "name": "python3"
    },
    "language_info": {
      "codemirror_mode": {
        "name": "ipython",
        "version": 3
      },
      "file_extension": ".py",
      "mimetype": "text/x-python",
      "name": "python",
      "nbconvert_exporter": "python",
      "pygments_lexer": "ipython3",
      "version": "3.9.1"
    },
    "colab": {
      "name": "lab_3_Susla._Diana.ipynb",
      "provenance": [],
      "collapsed_sections": []
    }
  },
  "cells": [
    {
      "cell_type": "markdown",
      "metadata": {
        "show": true,
        "id": "JuR7s2BJbvMl"
      },
      "source": [
        "# L4 – Word embedding\n",
        "\n",
        "### Resources\n",
        "1. Possible [truncated svd](http://scikit-learn.org/stable/modules/generated/sklearn.decomposition.TruncatedSVD.html#sklearn.decomposition.TruncatedSVD) implementation of sklearn.\n",
        "2. Pytorch [tutorial](https://pytorch.org/tutorials/beginner/nlp/word_embeddings_tutorial.html) for embeddings.\n",
        "3. GloVe [site](https://nlp.stanford.edu/projects/glove/).\n",
        "4. FastText [site](https://fasttext.cc).\n",
        "5. [Gensim](https://radimrehurek.com/gensim/) library.\n",
        "\n",
        "**Word embedding** – the collective name for a set of language modeling and feature learning techniques in natural language processing where words or phrases from the vocabulary are mapped to vectors of real numbers. Conceptually it involves a mathematical embedding from a space with one dimension per word to a continuous vector space with much higher dimensionality. Word and phrase embeddings, when used as the underlying input representation, have been shown to boost the performance in NLP tasks such as syntactic parsing, sentiment analysis and translation. Usually, problem reduces to unsupervised learning on a large corpus of text. So, learning process is based on the idea that context of word closely associated with it. For example, the context can be a document in which the word is located or adjacent words."
      ]
    },
    {
      "cell_type": "markdown",
      "metadata": {
        "id": "q6uq8H-EbvM1"
      },
      "source": [
        "### 1. Data\n",
        "\n",
        "As text corpus you may use simple english [wikipedia](https://simple.wikipedia.org/wiki/Simple_English_Wikipedia).\n",
        "1. 131K articles\n",
        "2. 2K common English words.\n",
        "\n",
        "Also you can use just english [wikipedia](https://en.wikipedia.org/wiki/Wikipedia):\n",
        "1. Includes 5М+ articles\n",
        "2. 2M+ different tokens\n",
        "\n",
        "#### Exercises\n",
        "1. Download all wikipedia articles.\n",
        "2. Make all preprocessing work that you need (e.g. remove markup)."
      ]
    },
    {
      "cell_type": "code",
      "metadata": {
        "id": "zpVl0fnwLKSo"
      },
      "source": [
        "import nltk\r\n",
        "import os\r\n",
        "import re\r\n",
        "import sys\r\n",
        "import glob\r\n",
        "import nltk\r\n",
        "import gensim\r\n",
        "import numpy as np\r\n",
        "import scipy\r\n",
        "import pandas as pd\r\n",
        "from tqdm import tqdm\r\n",
        "from uuid import uuid4\r\n",
        "from functools import reduce\r\n",
        "from multiprocessing import Pool\r\n",
        "from nltk.corpus import stopwords\r\n",
        "from sklearn.feature_extraction.text import TfidfVectorizer"
      ],
      "execution_count": null,
      "outputs": []
    },
    {
      "cell_type": "code",
      "metadata": {
        "colab": {
          "base_uri": "https://localhost:8080/"
        },
        "id": "IKliSX83jupS",
        "outputId": "a13ae3d1-e260-4f79-9fd7-0eab170bc385"
      },
      "source": [
        "!pip install wikiextractor"
      ],
      "execution_count": null,
      "outputs": [
        {
          "output_type": "stream",
          "text": [
            "Requirement already satisfied: wikiextractor in /usr/local/lib/python3.6/dist-packages (3.0.4)\n"
          ],
          "name": "stdout"
        }
      ]
    },
    {
      "cell_type": "code",
      "metadata": {
        "colab": {
          "base_uri": "https://localhost:8080/"
        },
        "id": "ON1AGW4Apk26",
        "outputId": "4fbb4569-b187-481d-fba3-05f5c159ac13"
      },
      "source": [
        "from google.colab import drive\r\n",
        "drive.mount('/content/gdrive')"
      ],
      "execution_count": null,
      "outputs": [
        {
          "output_type": "stream",
          "text": [
            "Drive already mounted at /content/gdrive; to attempt to forcibly remount, call drive.mount(\"/content/gdrive\", force_remount=True).\n"
          ],
          "name": "stdout"
        }
      ]
    },
    {
      "cell_type": "code",
      "metadata": {
        "colab": {
          "base_uri": "https://localhost:8080/"
        },
        "id": "45ohC0G5uism",
        "outputId": "d7e94e3f-39c0-4ef4-c29a-114244bddcf6"
      },
      "source": [
        "!python -m wikiextractor.WikiExtractor -o ../data/wiki/ --processes 8 '/content/gdrive/My Drive/simplewiki-20210120-pages-articles-multistream.xml.bz2'"
      ],
      "execution_count": null,
      "outputs": [
        {
          "output_type": "stream",
          "text": [
            "INFO: Preprocessing '/content/gdrive/My Drive/simplewiki-20210120-pages-articles-multistream.xml.bz2' to collect template definitions: this may take some time.\n",
            "INFO: Preprocessed 100000 pages\n",
            "INFO: Preprocessed 200000 pages\n",
            "INFO: Preprocessed 300000 pages\n",
            "INFO: Loaded 27463 templates in 53.8s\n",
            "INFO: Starting page extraction from /content/gdrive/My Drive/simplewiki-20210120-pages-articles-multistream.xml.bz2.\n",
            "INFO: Using 8 extract processes.\n",
            "INFO: Extracted 100000 articles (487.2 art/s)\n",
            "INFO: Extracted 200000 articles (594.5 art/s)\n",
            "INFO: Finished 8-process extraction of 247406 articles in 434.5s (569.4 art/s)\n"
          ],
          "name": "stdout"
        }
      ]
    },
    {
      "cell_type": "code",
      "metadata": {
        "colab": {
          "base_uri": "https://localhost:8080/"
        },
        "id": "0netWjb12ASy",
        "outputId": "1bc3b77c-fc82-4cbd-de6b-eb86316dab62"
      },
      "source": [
        "nltk.download('stopwords')\r\n",
        "nltk.download('punkt')"
      ],
      "execution_count": null,
      "outputs": [
        {
          "output_type": "stream",
          "text": [
            "[nltk_data] Downloading package stopwords to /root/nltk_data...\n",
            "[nltk_data]   Package stopwords is already up-to-date!\n",
            "[nltk_data] Downloading package punkt to /root/nltk_data...\n",
            "[nltk_data]   Package punkt is already up-to-date!\n"
          ],
          "name": "stdout"
        },
        {
          "output_type": "execute_result",
          "data": {
            "text/plain": [
              "True"
            ]
          },
          "metadata": {
            "tags": []
          },
          "execution_count": 9
        }
      ]
    },
    {
      "cell_type": "code",
      "metadata": {
        "colab": {
          "base_uri": "https://localhost:8080/"
        },
        "id": "I_DFI4FcsG_G",
        "outputId": "5dacfee2-a11b-400b-b7ee-9baa8e1dd52a"
      },
      "source": [
        "def _remove_non_printed_chars(string):\r\n",
        "    reg = re.compile('[^a-zA-Zа-яА-ЯёЁ]')\r\n",
        "    return reg.sub(' ', string)\r\n",
        "\r\n",
        "def _remove_stop_words(string,sw=[]):\r\n",
        "    return ' '.join([word if word not in sw else '' \\\r\n",
        "                     for word in string.strip().split(' ')])\r\n",
        "\r\n",
        "def _trim_string(string):\r\n",
        "    return re.sub('\\s+',' ',string).strip().lower()\r\n",
        "\r\n",
        "def clean_string(string,\r\n",
        "                 stop_words_list,\r\n",
        "                 min_len=2,\r\n",
        "                 max_len=30):\r\n",
        "\r\n",
        "    string = _remove_non_printed_chars(string)\r\n",
        "    string = _remove_stop_words(string,stop_words_list)\r\n",
        "    string = _trim_string(string)\r\n",
        "  \r\n",
        "    string = ' '.join(gensim.utils.simple_preprocess(string,\r\n",
        "                                                     min_len=min_len,\r\n",
        "                                                     max_len=max_len))\r\n",
        "    return string\r\n",
        "\r\n",
        "def splitkeepsep(s, sep):\r\n",
        "    cleaned = []\r\n",
        "    s = re.split(\"(%s)\" % re.escape(sep), s)\r\n",
        "    for _ in s:\r\n",
        "        if _!='' and _!=sep:\r\n",
        "            cleaned.append(sep+_)\r\n",
        "    return cleaned\r\n",
        "\r\n",
        "def remove_html_tags(text):\r\n",
        "    import re\r\n",
        "    clean = re.compile('<.*?>')\r\n",
        "    return re.sub(clean, '', text)\r\n",
        "\r\n",
        "def remove_special_chars(text,char_list):\r\n",
        "    for char in char_list:\r\n",
        "        text=text.replace(char,'')\r\n",
        "    return text.replace(u'\\xa0', u' ')   \r\n",
        "\r\n",
        "def process_wiki_files(wiki_file):\r\n",
        "    chars = ['\\n']\r\n",
        "    global sw\r\n",
        "    \r\n",
        "    with open(wiki_file, encoding='utf-8') as f:\r\n",
        "        content = f.read()\r\n",
        "\r\n",
        "    articles = splitkeepsep(content,'<doc id=')\r\n",
        "    df = pd.DataFrame(columns=['article_uuid', 'words after'])\r\n",
        "    \r\n",
        "    for article in articles:\r\n",
        "        uuid = uuid4()\r\n",
        "        \r\n",
        "        article = remove_special_chars(remove_html_tags(article),\r\n",
        "                                       chars)        \r\n",
        "        \r\n",
        "        sentences = nltk.sent_tokenize(article)\r\n",
        "        proc_sentences = [clean_string(sentence,sw) for sentence in sentences]\r\n",
        "        words = [sentence.split() for sentence in proc_sentences]\r\n",
        "        words = [item for sublist in words for item in sublist]\r\n",
        "        #words = np.unique(np.array(words).flatten())\r\n",
        "      \r\n",
        "        temp_df = pd.DataFrame(\r\n",
        "            {'article_uuid': [uuid]*len(words),\r\n",
        "             'words after': words\r\n",
        "            })\r\n",
        "        df = df.append(temp_df)\r\n",
        "    \r\n",
        "    return df\r\n",
        "\r\n",
        "def list_multiprocessing(param_lst,\r\n",
        "                         func,\r\n",
        "                         **kwargs):\r\n",
        "    \r\n",
        "    workers = kwargs.pop('workers')\r\n",
        "\r\n",
        "    with Pool(workers) as p:\r\n",
        "        apply_lst = [([params], func, i, kwargs) for i,params in enumerate(param_lst)]\r\n",
        "        result = list(tqdm(p.imap(_apply_lst, apply_lst), total=len(apply_lst)))\r\n",
        "\r\n",
        "    result=sorted(result,key=lambda x:x[0])\r\n",
        "    return [_[1] for _ in result]\r\n",
        "\r\n",
        "def _apply_lst(args):\r\n",
        "    params, func, num, kwargs = args\r\n",
        "    return num, func(*params,**kwargs)\r\n",
        "\r\n",
        "wiki_files = []\r\n",
        "\r\n",
        "for filename in glob.iglob('data/wiki/*/*', recursive=True):\r\n",
        "    wiki_files.append(filename)\r\n",
        "    \r\n",
        "# plain list of stop words\r\n",
        "sw_en = set(stopwords.words('english'))\r\n",
        "sw_ru = set(stopwords.words('russian'))\r\n",
        "sw = list(sw_ru.union(sw_en))  \r\n",
        "\r\n",
        "df = list_multiprocessing(wiki_files,\r\n",
        "                          process_wiki_files,\r\n",
        "                          workers=4)\r\n",
        "\r\n",
        "df = pd.concat(df).reset_index(drop=True)\r\n",
        "df.article_uuid = df.article_uuid.astype(str)\r\n",
        "df.to_csv('data/ruwiki.csv')"
      ],
      "execution_count": null,
      "outputs": [
        {
          "output_type": "stream",
          "text": [
            "100%|██████████| 150/150 [10:55<00:00,  4.37s/it]\n"
          ],
          "name": "stderr"
        }
      ]
    },
    {
      "cell_type": "code",
      "metadata": {
        "colab": {
          "base_uri": "https://localhost:8080/",
          "height": 419
        },
        "id": "k5Ya-HwUb0yT",
        "outputId": "7859a6a0-a5a6-40b2-c631-2599420cd5ff"
      },
      "source": [
        "df"
      ],
      "execution_count": null,
      "outputs": [
        {
          "output_type": "execute_result",
          "data": {
            "text/html": [
              "<div>\n",
              "<style scoped>\n",
              "    .dataframe tbody tr th:only-of-type {\n",
              "        vertical-align: middle;\n",
              "    }\n",
              "\n",
              "    .dataframe tbody tr th {\n",
              "        vertical-align: top;\n",
              "    }\n",
              "\n",
              "    .dataframe thead th {\n",
              "        text-align: right;\n",
              "    }\n",
              "</style>\n",
              "<table border=\"1\" class=\"dataframe\">\n",
              "  <thead>\n",
              "    <tr style=\"text-align: right;\">\n",
              "      <th></th>\n",
              "      <th>article_uuid</th>\n",
              "      <th>words after</th>\n",
              "    </tr>\n",
              "  </thead>\n",
              "  <tbody>\n",
              "    <tr>\n",
              "      <th>0</th>\n",
              "      <td>db0b1903-7ca5-4302-91a4-2cc787fd34d7</td>\n",
              "      <td>study</td>\n",
              "    </tr>\n",
              "    <tr>\n",
              "      <th>1</th>\n",
              "      <td>db0b1903-7ca5-4302-91a4-2cc787fd34d7</td>\n",
              "      <td>electrical</td>\n",
              "    </tr>\n",
              "    <tr>\n",
              "      <th>2</th>\n",
              "      <td>db0b1903-7ca5-4302-91a4-2cc787fd34d7</td>\n",
              "      <td>properties</td>\n",
              "    </tr>\n",
              "    <tr>\n",
              "      <th>3</th>\n",
              "      <td>db0b1903-7ca5-4302-91a4-2cc787fd34d7</td>\n",
              "      <td>biological</td>\n",
              "    </tr>\n",
              "    <tr>\n",
              "      <th>4</th>\n",
              "      <td>db0b1903-7ca5-4302-91a4-2cc787fd34d7</td>\n",
              "      <td>cells</td>\n",
              "    </tr>\n",
              "    <tr>\n",
              "      <th>...</th>\n",
              "      <td>...</td>\n",
              "      <td>...</td>\n",
              "    </tr>\n",
              "    <tr>\n",
              "      <th>13912106</th>\n",
              "      <td>b97108d8-1579-4696-a2d3-f2efb0202799</td>\n",
              "      <td>united</td>\n",
              "    </tr>\n",
              "    <tr>\n",
              "      <th>13912107</th>\n",
              "      <td>b97108d8-1579-4696-a2d3-f2efb0202799</td>\n",
              "      <td>states</td>\n",
              "    </tr>\n",
              "    <tr>\n",
              "      <th>13912108</th>\n",
              "      <td>b97108d8-1579-4696-a2d3-f2efb0202799</td>\n",
              "      <td>as</td>\n",
              "    </tr>\n",
              "    <tr>\n",
              "      <th>13912109</th>\n",
              "      <td>b97108d8-1579-4696-a2d3-f2efb0202799</td>\n",
              "      <td>census</td>\n",
              "    </tr>\n",
              "    <tr>\n",
              "      <th>13912110</th>\n",
              "      <td>b97108d8-1579-4696-a2d3-f2efb0202799</td>\n",
              "      <td>population</td>\n",
              "    </tr>\n",
              "  </tbody>\n",
              "</table>\n",
              "<p>13912111 rows × 2 columns</p>\n",
              "</div>"
            ],
            "text/plain": [
              "                                  article_uuid words after\n",
              "0         db0b1903-7ca5-4302-91a4-2cc787fd34d7       study\n",
              "1         db0b1903-7ca5-4302-91a4-2cc787fd34d7  electrical\n",
              "2         db0b1903-7ca5-4302-91a4-2cc787fd34d7  properties\n",
              "3         db0b1903-7ca5-4302-91a4-2cc787fd34d7  biological\n",
              "4         db0b1903-7ca5-4302-91a4-2cc787fd34d7       cells\n",
              "...                                        ...         ...\n",
              "13912106  b97108d8-1579-4696-a2d3-f2efb0202799      united\n",
              "13912107  b97108d8-1579-4696-a2d3-f2efb0202799      states\n",
              "13912108  b97108d8-1579-4696-a2d3-f2efb0202799          as\n",
              "13912109  b97108d8-1579-4696-a2d3-f2efb0202799      census\n",
              "13912110  b97108d8-1579-4696-a2d3-f2efb0202799  population\n",
              "\n",
              "[13912111 rows x 2 columns]"
            ]
          },
          "metadata": {
            "tags": []
          },
          "execution_count": 177
        }
      ]
    },
    {
      "cell_type": "markdown",
      "metadata": {
        "id": "OTFiIdB_bvM2"
      },
      "source": [
        "### 2. LSA (Latent semantic analysis)\n",
        "This solution uses full document as a context of word. So, we have some vocabulary $W$ and a set of documents $D$. Matrix $X$ with shape $|W| \\times |D|$ at position $w, d$ stores importance of word $w$ for document $d$. If word $w$ is not found in the document $d$ than at appropriate position $X$ has 0 (obviously, matrix is sparse).\n",
        "\n",
        "For each matrix you can find [SVD decomposition](https://en.wikipedia.org/wiki/Singular_value_decomposition)\n",
        "$$X = U \\Sigma V^{T} \\text{, где }$$\n",
        "* $U$ – orthogonal matrix $|W| \\times |W|$ of left singular vectors\n",
        "* $\\Sigma$ – diagonal matrix $|W| \\times |D|$ of singular values\n",
        "* $V$ – orthogonal matrix $|D| \\times |D|$  of right singular vectors\n",
        "\n",
        "Let's suppouse that row $w$ in matrix $U\\Sigma$ is a vector that represents word $w$, and row $d$ of $V$ coresponds to document $d$. In some sense we already found the embeddings of words and documents at the same time. But size of vectors are determined by documents number $|D|$.\n",
        "\n",
        "Nevertheless you can use truncated SVD instead\n",
        "$$ X \\approx X_k = U_k \\Sigma_k V^{T}_k \\text{, where }$$\n",
        "* $U_k$ – $k$ left singular vectors\n",
        "* $\\Sigma_k$ – diagonal matrix $|k| \\times |k|$ of largest singular values\n",
        "* $V_k$ – $k$ right singular vectors\n",
        "\n",
        "Also it known that $X_k$ is the best approximation of $X$ in the term of [Frobenius norm](https://en.wikipedia.org/wiki/Matrix_norm#Frobenius_norm) for all matrices of rank $k$.\n",
        "\n",
        "So, it is possible to obtain a compressed words' representations of size $k \\ll |W|$ as rows of matrix $U_k \\Sigma_k $. It just remains to understand how to calculate the original values of the matrix $X$. There is a set of approaches, here are some of them\n",
        "1. Binary flag that document contains the word.\n",
        "2. The number occurrences of word in document.\n",
        "3. Word frequency that is better known as $tf$ (it's possible also use $\\ln(1 + tf)$).\n",
        "4. [$tf \\cdot idf$](https://ru.wikipedia.org/wiki/TF-IDF).\n",
        "\n",
        "#### Further readning\n",
        "1. You also can read this [aticle](https://en.wikipedia.org/wiki/Latent_semantic_analysis).\n",
        "2. By the way, some [modification](http://www.netflixprize.com/assets/GrandPrize2009_BPC_BellKor.pdf) of SVD decompostion won at [Netflix prize](https://en.wikipedia.org/wiki/Netflix_Prize).\n",
        "3. It is easy to see that the problem of SVD decomposition is reduced to finding eigenvectors of matrix $X \\cdot X^T$.\n",
        "4. You can find [here](https://arxiv.org/abs/0909.4061) probabilistic algorithms of matrix decomposition.\n",
        "\n",
        "#### Exercises\n",
        "1. Find matrix $X$, using you favourite approach (maybe you need the sparse matrix class of scipy library).\n",
        "2. Find word embeddings of size $k = 128$.\n",
        "3. Implement k-nearest neighbor search for Euclidean norm.\n",
        "4. Find 10 nearest words for the set of words: 'cat', 'loves', 'clever' and 'mandarin'.\n",
        "5. Repeat experiment for cosinus as metric. What are the results?"
      ]
    },
    {
      "cell_type": "code",
      "metadata": {
        "id": "MCfbfNcG3mT9"
      },
      "source": [
        "data_gr = df.groupby(by=['article_uuid'], as_index=False).agg(lambda x: x.tolist())"
      ],
      "execution_count": null,
      "outputs": []
    },
    {
      "cell_type": "code",
      "metadata": {
        "colab": {
          "base_uri": "https://localhost:8080/",
          "height": 419
        },
        "id": "1W9X2FTV8aFj",
        "outputId": "62ac8281-1b6b-48b7-e1c8-f3632fff4d5d"
      },
      "source": [
        "data_gr"
      ],
      "execution_count": null,
      "outputs": [
        {
          "output_type": "execute_result",
          "data": {
            "text/html": [
              "<div>\n",
              "<style scoped>\n",
              "    .dataframe tbody tr th:only-of-type {\n",
              "        vertical-align: middle;\n",
              "    }\n",
              "\n",
              "    .dataframe tbody tr th {\n",
              "        vertical-align: top;\n",
              "    }\n",
              "\n",
              "    .dataframe thead th {\n",
              "        text-align: right;\n",
              "    }\n",
              "</style>\n",
              "<table border=\"1\" class=\"dataframe\">\n",
              "  <thead>\n",
              "    <tr style=\"text-align: right;\">\n",
              "      <th></th>\n",
              "      <th>article_uuid</th>\n",
              "      <th>words after</th>\n",
              "    </tr>\n",
              "  </thead>\n",
              "  <tbody>\n",
              "    <tr>\n",
              "      <th>0</th>\n",
              "      <td>00005930-8dff-449d-935d-d6e44f41f74b</td>\n",
              "      <td>[kgalagadi, districtkgalagadi, district, south...</td>\n",
              "    </tr>\n",
              "    <tr>\n",
              "      <th>1</th>\n",
              "      <td>000092b4-0a66-4aaf-a35a-06fb72aa1a29</td>\n",
              "      <td>[heartlandheartland, american, western, drama,...</td>\n",
              "    </tr>\n",
              "    <tr>\n",
              "      <th>2</th>\n",
              "      <td>0000f9f1-a666-4ad0-9e49-5b59938fafab</td>\n",
              "      <td>[osamu, shimomura, japanese, organic, chemist,...</td>\n",
              "    </tr>\n",
              "    <tr>\n",
              "      <th>3</th>\n",
              "      <td>0001180f-ad22-4681-8275-707be4ea7546</td>\n",
              "      <td>[list, districts, west, bengalthe, himalayas, ...</td>\n",
              "    </tr>\n",
              "    <tr>\n",
              "      <th>4</th>\n",
              "      <td>00013b3c-35cc-43b3-ac99-e8116b01cc3f</td>\n",
              "      <td>[agnetha, ltskogagnetha, se, ltskog, born, apr...</td>\n",
              "    </tr>\n",
              "    <tr>\n",
              "      <th>...</th>\n",
              "      <td>...</td>\n",
              "      <td>...</td>\n",
              "    </tr>\n",
              "    <tr>\n",
              "      <th>245910</th>\n",
              "      <td>ffff878d-3e90-4d0f-ae67-980e21fc606c</td>\n",
              "      <td>[jos, ignacio, zah, nosjos, ignacio, zah, nos,...</td>\n",
              "    </tr>\n",
              "    <tr>\n",
              "      <th>245911</th>\n",
              "      <td>ffff95a4-8f1f-47c5-bb87-d7f4789138d6</td>\n",
              "      <td>[pedigree]</td>\n",
              "    </tr>\n",
              "    <tr>\n",
              "      <th>245912</th>\n",
              "      <td>ffffb45a-b838-4d24-a146-9eb084997113</td>\n",
              "      <td>[lightspeed, magazine, lightspeed, american, o...</td>\n",
              "    </tr>\n",
              "    <tr>\n",
              "      <th>245913</th>\n",
              "      <td>ffffb90f-b6cb-4419-b3f4-14e538545e80</td>\n",
              "      <td>[alan, turing]</td>\n",
              "    </tr>\n",
              "    <tr>\n",
              "      <th>245914</th>\n",
              "      <td>ffffe031-79ff-4c17-87fd-5ad4dd8a2213</td>\n",
              "      <td>[yakovlev, yak, yakovlev, yak, russian, яковле...</td>\n",
              "    </tr>\n",
              "  </tbody>\n",
              "</table>\n",
              "<p>245915 rows × 2 columns</p>\n",
              "</div>"
            ],
            "text/plain": [
              "                                article_uuid                                        words after\n",
              "0       00005930-8dff-449d-935d-d6e44f41f74b  [kgalagadi, districtkgalagadi, district, south...\n",
              "1       000092b4-0a66-4aaf-a35a-06fb72aa1a29  [heartlandheartland, american, western, drama,...\n",
              "2       0000f9f1-a666-4ad0-9e49-5b59938fafab  [osamu, shimomura, japanese, organic, chemist,...\n",
              "3       0001180f-ad22-4681-8275-707be4ea7546  [list, districts, west, bengalthe, himalayas, ...\n",
              "4       00013b3c-35cc-43b3-ac99-e8116b01cc3f  [agnetha, ltskogagnetha, se, ltskog, born, apr...\n",
              "...                                      ...                                                ...\n",
              "245910  ffff878d-3e90-4d0f-ae67-980e21fc606c  [jos, ignacio, zah, nosjos, ignacio, zah, nos,...\n",
              "245911  ffff95a4-8f1f-47c5-bb87-d7f4789138d6                                         [pedigree]\n",
              "245912  ffffb45a-b838-4d24-a146-9eb084997113  [lightspeed, magazine, lightspeed, american, o...\n",
              "245913  ffffb90f-b6cb-4419-b3f4-14e538545e80                                     [alan, turing]\n",
              "245914  ffffe031-79ff-4c17-87fd-5ad4dd8a2213  [yakovlev, yak, yakovlev, yak, russian, яковле...\n",
              "\n",
              "[245915 rows x 2 columns]"
            ]
          },
          "metadata": {
            "tags": []
          },
          "execution_count": 179
        }
      ]
    },
    {
      "cell_type": "code",
      "metadata": {
        "id": "EszY8fEo8aY3"
      },
      "source": [
        "data = data_gr['words after'].values.tolist()\r\n",
        "\r\n",
        "for i in range(len(data)):\r\n",
        "    data[i] = ' '.join(map(str, data[i]))"
      ],
      "execution_count": null,
      "outputs": []
    },
    {
      "cell_type": "code",
      "metadata": {
        "id": "WyBiskDCiJYm"
      },
      "source": [
        "vectorizer = TfidfVectorizer()\r\n",
        "X = vectorizer.fit_transform(data)"
      ],
      "execution_count": null,
      "outputs": []
    },
    {
      "cell_type": "code",
      "metadata": {
        "id": "ufxLtFQSiJer"
      },
      "source": [
        "X = X.T"
      ],
      "execution_count": null,
      "outputs": []
    },
    {
      "cell_type": "code",
      "metadata": {
        "id": "W4lNs5kJs5Q8",
        "colab": {
          "base_uri": "https://localhost:8080/"
        },
        "outputId": "b7b0fd13-e073-4bc3-cc60-07f3e4010253"
      },
      "source": [
        "X.shape"
      ],
      "execution_count": null,
      "outputs": [
        {
          "output_type": "execute_result",
          "data": {
            "text/plain": [
              "(447685, 245915)"
            ]
          },
          "metadata": {
            "tags": []
          },
          "execution_count": 183
        }
      ]
    },
    {
      "cell_type": "code",
      "metadata": {
        "id": "Bk3haaX18a7i"
      },
      "source": [
        "U, S, W = scipy.sparse.linalg.svds(X, k=128)"
      ],
      "execution_count": null,
      "outputs": []
    },
    {
      "cell_type": "code",
      "metadata": {
        "id": "YKyAKxvHLlUF"
      },
      "source": [
        "emb = U.dot(np.diag(S))"
      ],
      "execution_count": null,
      "outputs": []
    },
    {
      "cell_type": "code",
      "metadata": {
        "colab": {
          "base_uri": "https://localhost:8080/"
        },
        "id": "gK89uIR3LlYN",
        "outputId": "8d1ec02d-c2e4-4db2-afeb-ee16d40cbaf1"
      },
      "source": [
        "emb"
      ],
      "execution_count": null,
      "outputs": [
        {
          "output_type": "execute_result",
          "data": {
            "text/plain": [
              "array([[-1.87848030e-04, -2.67323820e-03,  3.82352630e-03, ...,\n",
              "        -6.02750627e-03,  5.66510118e-03,  1.71542949e-02],\n",
              "       [ 3.10386913e-03, -2.45129145e-03, -2.37916415e-03, ...,\n",
              "         1.01770205e-03,  1.00109995e-02,  1.24872869e-02],\n",
              "       [-4.52574843e-05,  8.03229013e-05,  3.22703399e-04, ...,\n",
              "        -3.52892269e-04,  3.14634035e-04,  8.71731655e-04],\n",
              "       ...,\n",
              "       [-4.88941032e-05, -8.25596084e-05,  1.28389641e-05, ...,\n",
              "        -2.92427033e-05,  6.72782899e-05,  1.56582609e-04],\n",
              "       [ 2.92541634e-05, -1.39058148e-05, -1.46193479e-04, ...,\n",
              "        -1.00658798e-04, -4.31114500e-05,  3.79053198e-04],\n",
              "       [-4.55827648e-05, -2.14146912e-05, -6.98265032e-05, ...,\n",
              "        -3.67912121e-05,  3.96820897e-05,  1.22956176e-04]])"
            ]
          },
          "metadata": {
            "tags": []
          },
          "execution_count": 41
        }
      ]
    },
    {
      "cell_type": "code",
      "metadata": {
        "id": "rD5V2Pk0TpoG"
      },
      "source": [
        "def euclidean_distance(row1, row2):\r\n",
        "\tdistance = 0.0\r\n",
        "\tfor i in range(len(row1)-1):\r\n",
        "\t\tdistance += (row1[i] - row2[i])**2\r\n",
        "\treturn np.sqrt(distance)"
      ],
      "execution_count": null,
      "outputs": []
    },
    {
      "cell_type": "code",
      "metadata": {
        "id": "ePB84Cn9gbWf"
      },
      "source": [
        "def cos_distance(row1, row2):\r\n",
        "    return scipy.spatial.distance.cosine(row1, row2)"
      ],
      "execution_count": null,
      "outputs": []
    },
    {
      "cell_type": "code",
      "metadata": {
        "id": "mbSPA0HtXy6V"
      },
      "source": [
        "def get_neighbors(train, word, num_neighbors, norm):\r\n",
        "    test_row = train[word]\r\n",
        "    distances = list()\r\n",
        "    for el in train:\r\n",
        "        train_row = train[el]\r\n",
        "        dist = norm(test_row, train_row)\r\n",
        "        distances.append((el, dist))      \r\n",
        "    distances.sort(key=lambda tup: tup[1])\r\n",
        "    neighbors = list()\r\n",
        "    for i in range(num_neighbors):\r\n",
        "        neighbors.append(distances[i][0])\r\n",
        "    return neighbors"
      ],
      "execution_count": null,
      "outputs": []
    },
    {
      "cell_type": "code",
      "metadata": {
        "colab": {
          "base_uri": "https://localhost:8080/"
        },
        "id": "h0SST2CaTpyR",
        "outputId": "8ee172c0-79f2-4c9a-bbfc-36a6dc5d6575"
      },
      "source": [
        "cos_distance(emb[77], emb[2])"
      ],
      "execution_count": null,
      "outputs": [
        {
          "output_type": "execute_result",
          "data": {
            "text/plain": [
              "-0.04912724279344194"
            ]
          },
          "metadata": {
            "tags": []
          },
          "execution_count": 158
        }
      ]
    },
    {
      "cell_type": "code",
      "metadata": {
        "id": "C03olUCUTp5a"
      },
      "source": [
        "d = dict(zip(vectorizer.get_feature_names(), emb))"
      ],
      "execution_count": null,
      "outputs": []
    },
    {
      "cell_type": "code",
      "metadata": {
        "colab": {
          "base_uri": "https://localhost:8080/"
        },
        "id": "gqvnyeMHTqhA",
        "outputId": "0010b034-9d7a-456d-cb4f-53ae199af31b"
      },
      "source": [
        "get_neighbors(d, 'cat', 10, euclidean_distance)"
      ],
      "execution_count": null,
      "outputs": [
        {
          "output_type": "execute_result",
          "data": {
            "text/plain": [
              "['cat',\n",
              " 'cats',\n",
              " 'dog',\n",
              " 'description',\n",
              " 'feathers',\n",
              " 'adults',\n",
              " 'bones',\n",
              " 'breed',\n",
              " 'shark',\n",
              " 'eating']"
            ]
          },
          "metadata": {
            "tags": []
          },
          "execution_count": 91
        }
      ]
    },
    {
      "cell_type": "code",
      "metadata": {
        "colab": {
          "base_uri": "https://localhost:8080/"
        },
        "id": "bV60yaBuhTnb",
        "outputId": "cea3371e-d56b-4132-9a55-8e43d424679b"
      },
      "source": [
        "get_neighbors(d, 'cat', 10, cos_distance)"
      ],
      "execution_count": null,
      "outputs": [
        {
          "output_type": "execute_result",
          "data": {
            "text/plain": [
              "['cat',\n",
              " 'cats',\n",
              " 'siamese',\n",
              " 'dog',\n",
              " 'adaptations',\n",
              " 'creature',\n",
              " 'paws',\n",
              " 'catthe',\n",
              " 'creatures',\n",
              " 'colorful']"
            ]
          },
          "metadata": {
            "tags": []
          },
          "execution_count": 166
        }
      ]
    },
    {
      "cell_type": "code",
      "metadata": {
        "colab": {
          "base_uri": "https://localhost:8080/"
        },
        "id": "F1oDL59ifipD",
        "outputId": "bc1a6d3f-6e45-4129-d172-aa6bd66fd41b"
      },
      "source": [
        "get_neighbors(d, 'loves', 10, euclidean_distance)"
      ],
      "execution_count": null,
      "outputs": [
        {
          "output_type": "execute_result",
          "data": {
            "text/plain": [
              "['loves',\n",
              " 'funny',\n",
              " 'ugly',\n",
              " 'humor',\n",
              " 'orphan',\n",
              " 'marries',\n",
              " 'inspiration',\n",
              " 'lovers',\n",
              " 'dinner',\n",
              " 'drunk']"
            ]
          },
          "metadata": {
            "tags": []
          },
          "execution_count": 92
        }
      ]
    },
    {
      "cell_type": "code",
      "metadata": {
        "colab": {
          "base_uri": "https://localhost:8080/"
        },
        "id": "l38wbAoZTqr4",
        "outputId": "a77b628a-c984-43be-8ddf-a21ff76d7483"
      },
      "source": [
        "get_neighbors(d, 'loves', 10, cos_distance)"
      ],
      "execution_count": null,
      "outputs": [
        {
          "output_type": "execute_result",
          "data": {
            "text/plain": [
              "['loves',\n",
              " 'friends',\n",
              " 'friend',\n",
              " 'happy',\n",
              " 'witch',\n",
              " 'funny',\n",
              " 'angel',\n",
              " 'magic',\n",
              " 'marries',\n",
              " 'humor']"
            ]
          },
          "metadata": {
            "tags": []
          },
          "execution_count": 167
        }
      ]
    },
    {
      "cell_type": "code",
      "metadata": {
        "colab": {
          "base_uri": "https://localhost:8080/"
        },
        "id": "KCA3_07dfnOJ",
        "outputId": "0edde6d7-4991-49e6-8220-fdc3963b44fa"
      },
      "source": [
        "get_neighbors(d, 'clever', 10, euclidean_distance)"
      ],
      "execution_count": null,
      "outputs": [
        {
          "output_type": "execute_result",
          "data": {
            "text/plain": [
              "['clever',\n",
              " 'inherit',\n",
              " 'fashioned',\n",
              " 'realize',\n",
              " 'shocked',\n",
              " 'jealousy',\n",
              " 'persuade',\n",
              " 'tricked',\n",
              " 'pleased',\n",
              " 'disguise']"
            ]
          },
          "metadata": {
            "tags": []
          },
          "execution_count": 93
        }
      ]
    },
    {
      "cell_type": "code",
      "metadata": {
        "colab": {
          "base_uri": "https://localhost:8080/"
        },
        "id": "t25dJAShhR0V",
        "outputId": "5a1e7495-4ead-4034-f40f-c61d2b30aa5c"
      },
      "source": [
        "get_neighbors(d, 'clever', 10, cos_distance)"
      ],
      "execution_count": null,
      "outputs": [
        {
          "output_type": "execute_result",
          "data": {
            "text/plain": [
              "['clever',\n",
              " 'kindness',\n",
              " 'telling',\n",
              " 'really',\n",
              " 'knew',\n",
              " 'good',\n",
              " 'asks',\n",
              " 'thinks',\n",
              " 'realize',\n",
              " 'thought']"
            ]
          },
          "metadata": {
            "tags": []
          },
          "execution_count": 168
        }
      ]
    },
    {
      "cell_type": "code",
      "metadata": {
        "colab": {
          "base_uri": "https://localhost:8080/"
        },
        "id": "lZcFntVATqmb",
        "outputId": "e3c91bf0-d5c1-4ef5-b306-98a26f7ee3e1"
      },
      "source": [
        "get_neighbors(d, 'mandarin', 10, euclidean_distance)"
      ],
      "execution_count": null,
      "outputs": [
        {
          "output_type": "execute_result",
          "data": {
            "text/plain": [
              "['mandarin',\n",
              " 'simplified',\n",
              " 'cantonese',\n",
              " 'linguistic',\n",
              " 'pronunciation',\n",
              " 'linguists',\n",
              " 'hakka',\n",
              " 'loanwords',\n",
              " 'romanization',\n",
              " 'bantu']"
            ]
          },
          "metadata": {
            "tags": []
          },
          "execution_count": 95
        }
      ]
    },
    {
      "cell_type": "code",
      "metadata": {
        "colab": {
          "base_uri": "https://localhost:8080/"
        },
        "id": "qxlLHN7ThR9e",
        "outputId": "b261181d-f69b-4b29-be8b-821fc24234b1"
      },
      "source": [
        "get_neighbors(d, 'mandarin', 10, cos_distance)"
      ],
      "execution_count": null,
      "outputs": [
        {
          "output_type": "execute_result",
          "data": {
            "text/plain": [
              "['mandarin',\n",
              " 'cantonese',\n",
              " 'subvarieties',\n",
              " 'yue',\n",
              " 'chinesemandarin',\n",
              " 'guoyu',\n",
              " 'huayu',\n",
              " 'likebecame',\n",
              " 'likethus',\n",
              " 'menr']"
            ]
          },
          "metadata": {
            "tags": []
          },
          "execution_count": 169
        }
      ]
    },
    {
      "cell_type": "code",
      "metadata": {
        "colab": {
          "base_uri": "https://localhost:8080/"
        },
        "id": "02umFhXHhSDL",
        "outputId": "0293777c-30d7-44f1-9ce2-1f04e4a840a1"
      },
      "source": [
        "get_neighbors(d, 'diana', 10, cos_distance)"
      ],
      "execution_count": null,
      "outputs": [
        {
          "output_type": "execute_result",
          "data": {
            "text/plain": [
              "['diana',\n",
              " 'emily',\n",
              " 'joan',\n",
              " 'grace',\n",
              " 'julia',\n",
              " 'olivia',\n",
              " 'audrey',\n",
              " 'nicole',\n",
              " 'ingrid',\n",
              " 'patricia']"
            ]
          },
          "metadata": {
            "tags": []
          },
          "execution_count": 171
        }
      ]
    },
    {
      "cell_type": "markdown",
      "metadata": {
        "id": "dbKSLkh7bvM4"
      },
      "source": [
        "### 3. word2vec\n",
        "Let's consider perhaps the most popular model of word embeddings. This is mainly due to the fact that the received vectors have interesting properties. In particular, semantically similar words have close vectors, moreover linear operation of subtraction has meaning in the resulting vector space! The context of word at this time is a window of size $2c+1$, where interested word is located in the middle.\n",
        "\n",
        "#### Continuous bag-of-words\n",
        "The core idea is very simple. There is some very long text\n",
        "$$w_1, w_2, \\dots, w_T.$$\n",
        "Consider some word $w_t$ and its context in radius $c$, namely words\n",
        "$$w_{t-c}, \\dots, w_{t-1}, w_{t+1}, \\dots w_{t+c}.$$\n",
        "Intuition tells us that the context often really well defines the word in the middle. Then let our model restore the central word if its context is known\n",
        "$$\\mathcal{L} = - \\frac{1}{T}\\sum_{t} \\log \\mathbb{P}[w_t|w_{t-c}, \\dots, w_{t-1}, w_{t+1}, \\dots w_{t+c}].$$\n",
        "\n",
        "For each word $w_t$ there is some vector $v_t$, but if word $w_{t+i}$ is some context than we use vector $v'_{t+i}$. In this case we can represent context of word as the following sum\n",
        "$$s'_t = \\sum_{-c \\leq i \\leq c, i \\neq 0} v'_{t+i}$$\n",
        "\n",
        "And define probabilty with softmax\n",
        "$$\\mathbb{P}[w_t|w_{t-c}, \\dots, w_{t-1}, w_{t-1}, \\dots w_{t+c}] = \\frac{ \\exp {s'}_t^T \\cdot v_t}{\\sum_j \\exp {s'}_t^T \\cdot v_j}.$$\n",
        "\n",
        "Note that this model is easy to present as 2-layer neural network:\n",
        "* The input is a sparse vector of dimension $|W|$ which at position $w'$ has one if word $w'$ is in context.\n",
        "* Further, we have matrix $V'$ of vectors $v'$.\n",
        "* Further, without any non-linearity matrix $V$ of vector $v$.\n",
        "* And then the softmax layer.\n",
        "\n",
        "#### Skip-gram\n",
        "Another model predicts context for some word. The design is approximately the same, we need to optimize\n",
        "$$\\mathcal{L} = -\\frac{1}{T} \\sum_t \\sum_{-c \\leq i \\leq c, i \\neq 0} \\log \\mathbb{P}[w_{t+i}|w_t].$$\n",
        "\n",
        "The probability is approximated by the following model\n",
        "$$\\mathbb{P}[w_{t+i}|w_t] = \\frac{ \\exp {v'}_{t+i}^T \\cdot v_t}{\\sum_j \\exp {v'}_{j}^T \\cdot v_t}.$$\n",
        "\n",
        "\n",
        "#### Hierarchical softmax\n",
        "Creation of this mode was guided to reduce the complexity of learning. However, computing of sofmax's denominator is really expensive operation. Therefore, in practice, a few other models are used.\n",
        "\n",
        "This method was viewed in the seminar. Detailed information can be found [here](http://www.iro.umontreal.ca/~lisa/pointeurs/hierarchical-nnlm-aistats05.pdf) and practical using [here](http://papers.nips.cc/paper/5021-distributed-representations-of-words-and-phrases-and-their-compositionality.pdf).    Briefly recall, for each word from the dictionary we define [Huffman code](https://en.wikipedia.org/wiki/Huffman_coding). More frequency words have shorter code. Then we construct the Huffman tree. In accordance with its code words are stored in leaves. In the non-leaf vertices are stored special hidden representations $h'$. \n",
        "\n",
        "$$\\mathbb{P}[w_{t+i}|w_t] = \\prod_{{h'}_{t+i}, r} \\sigma\\Big( \\mathcal{r} \\cdot {h'}^T_{t+i} v_t \\Big) \\text{, where}$$\n",
        "* ${h'}_{t+i}$ – hidden vector of word's path $w_{t+i}$\n",
        "* $\\mathcal{r}$ – equals $-1$, if we turn left and $+1$ in another case\n",
        "* $\\sigma$ – sigmoid function\n",
        "\n",
        "Using hierarchical softmax as approximation of softmax allows us to significantly reduce complexity of model training. \n",
        "\n",
        "#### Exercise\n",
        "1. How can you implement skip-gram model as neural network.\n",
        "2. Estimate complexity of one iteration of training the skip-gram model\n",
        "  * $T$ - text size\n",
        "  * $W$ - vocabulary size\n",
        "  * $c$ - context radius\n",
        "  * $d$ - embedding size\n",
        "3. Estimate complexity of using hierarchical softmax in the skip-gram model.\n",
        "\n",
        "#### Why sampling?\n",
        "Let see at softmax funciton\n",
        "$$\\mathbb{P}[x_i] = \\frac{\\exp f(x_i|\\theta)}{\\sum_j \\exp f(x_j|\\theta)}$$\n",
        "Optimizing this function is equivalent to optimizing its logarithm\n",
        "$$\\log \\frac{\\exp f(x_i|\\theta)}{\\sum_j \\exp f(x_j|\\theta)} = f(x_i|\\theta) - log \\sum_j \\exp f(x_j|\\theta)$$\n",
        "Than gradient $\\triangledown_{\\theta} \\mathbb{P}[x_i]$ is equal to\n",
        "$$\\triangledown_{\\theta} f(x_i|\\theta) - \\sum_k \\frac{\\exp f(x_k|\\theta)}{\\sum_j \\exp f(w_j|\\theta)} \\triangledown_{\\theta} f(x_k|\\theta)$$\n",
        "Inside the sum we can find $\\mathbb{P}[x_k]$ again. So, the previous expression can be written as\n",
        "$$\n",
        "\\triangledown_{\\theta} f(x_i|\\theta) - \\sum_k \\mathbb{P}[x_k] \\cdot \\triangledown_{\\theta} f(x_k|\\theta) = \n",
        "\\triangledown_{\\theta} f(x_i|\\theta) - \\mathbb{E}_{x \\sim \\mathbb{P}[x]} \\triangledown_{\\theta} f(x|\\theta)\n",
        "$$\n",
        "If we can sample $x \\sim \\mathbb{P}[x]$, then we has no sense to calculate the softmax itself. We just can train model, computing only gradient. It is possible due to the fact that we do not need the probability itself, but want to find representation of words only.\n",
        "\n",
        "#### Negative Sampling\n",
        "As the result, in practice, softmax loss functions is approximated with negative sampling, which looks like a series of logistic regressions\n",
        "$$\\mathcal{L} = - \\frac{1}{T}\\sum_{w_t}\n",
        "    \\sum_{-c \\leq i \\leq c, i \\neq 0} \\Big(\n",
        "        \\mathbb{P}[y = 1 | w_{t+i}, w_t] +\n",
        "        k \\cdot \\mathbb{E}_{\\tilde{w}_{tj} \\sim \\mathbb{P}[w_j|w_t]} \\mathbb{P}[y = 0 | \\tilde{w}_{tj}, w_t]\n",
        "    \\Big)\n",
        "$$\n",
        "where $y=1$, if  word is a context of word and $y=0$ in another case. А $\\tilde{w}_{tj}$ – sampling of words that don't belong to the context. Then main trick is how we will sample words $\\mathbb{P}[y | w_{t+i}, w_t]$. In paper [noise contrastive estimation](https://www.cs.helsinki.fi/u/ahyvarin/papers/Gutmann10AISTATS.pdf) some interesting approaches is suggested. But we are going to use more simple variation\n",
        "$$\\mathcal{L} = - \\frac{1}{T}\\sum_{w_t} \\Big(\n",
        "    \\sum_{-c \\leq i \\leq c, i \\neq 0} \\big(\n",
        "        \\sigma({v'}_{t+i}^T v_t) +\n",
        "        k \\cdot \\mathbb{E}_{w_j \\sim \\mathbb{Q}(w_j)} \\sigma (-{v'}_{j}^T v_t)\n",
        "    \\big)\n",
        "\\Big),\n",
        "$$\n",
        "to find  $\\mathbb{E}_{\\tilde{w}_{tj} \\sim \\mathbb{P}[w_j|w_t]}$ we simply sample words $k$ times from distribution $\\mathbb{Q}$, $\\mathbb{P}(w_j|w_t) = \\mathbb{Q}(w_j)$.\n",
        "\n",
        "#### Additional word2vec tricks\n",
        "For the best quality at the moment of learning it is proposed to use variety of tricks:\n",
        "1. How to choose $\\mathbb{Q}$.\n",
        "2. Sampling of frequent and rare words.\n",
        "3. The sampling of window size.\n",
        "You are welcome to read about this in original papers.\n",
        "\n",
        "#### Further reading\n",
        "1. Briefly about both models [here](https://arxiv.org/pdf/1301.3781.pdf).\n",
        "2. Hierarchical softmax and negative sampling [here](http://papers.nips.cc/paper/5021-distributed-representations-of-words-and-phrases-and-their-compositionality.pdf).\n",
        "\n",
        "#### Exercises\n",
        "1. Load pretrained word2vec embeddings.\n",
        "2. Find top-10 nearest words again. Compare Euclidean and cosinus metric. Which is better? \n",
        "3. Find 10 nearest vector for expression v(king) - v(man) + v(women). If your model is tuned well, you find representation of word queen. \n",
        "4. How could you solve the following problems?\n",
        "  * Find for country its capital\n",
        "  * For a word find its plural form\n",
        "  * For word define antonyms"
      ]
    },
    {
      "cell_type": "code",
      "metadata": {
        "colab": {
          "base_uri": "https://localhost:8080/"
        },
        "id": "P5YRqSUUE_qu",
        "outputId": "e50104f4-df26-4571-ebd6-477467404525"
      },
      "source": [
        "import gensim.downloader\r\n",
        "\r\n",
        "print(list(gensim.downloader.info()['models'].keys()))\r\n",
        "\r\n",
        "glove_vectors = gensim.downloader.load('glove-wiki-gigaword-300')\r\n"
      ],
      "execution_count": null,
      "outputs": [
        {
          "output_type": "stream",
          "text": [
            "['fasttext-wiki-news-subwords-300', 'conceptnet-numberbatch-17-06-300', 'word2vec-ruscorpora-300', 'word2vec-google-news-300', 'glove-wiki-gigaword-50', 'glove-wiki-gigaword-100', 'glove-wiki-gigaword-200', 'glove-wiki-gigaword-300', 'glove-twitter-25', 'glove-twitter-50', 'glove-twitter-100', 'glove-twitter-200', '__testing_word2vec-matrix-synopsis']\n"
          ],
          "name": "stdout"
        }
      ]
    },
    {
      "cell_type": "code",
      "metadata": {
        "colab": {
          "base_uri": "https://localhost:8080/"
        },
        "id": "Kw3bl2VxEXf3",
        "outputId": "7877b7e6-7852-4f71-a700-06ed94a58935"
      },
      "source": [
        "glove_vectors.most_similar('cat', topn=10)"
      ],
      "execution_count": null,
      "outputs": [
        {
          "output_type": "execute_result",
          "data": {
            "text/plain": [
              "[('dog', 0.6816747188568115),\n",
              " ('cats', 0.6815836429595947),\n",
              " ('pet', 0.5870364904403687),\n",
              " ('dogs', 0.540766716003418),\n",
              " ('feline', 0.48979705572128296),\n",
              " ('monkey', 0.48794347047805786),\n",
              " ('horse', 0.4732130467891693),\n",
              " ('pets', 0.4634858965873718),\n",
              " ('rabbit', 0.4608757495880127),\n",
              " ('leopard', 0.4585462808609009)]"
            ]
          },
          "metadata": {
            "tags": []
          },
          "execution_count": 5
        }
      ]
    },
    {
      "cell_type": "code",
      "metadata": {
        "colab": {
          "base_uri": "https://localhost:8080/"
        },
        "id": "CDID7sbYPM5n",
        "outputId": "6098dfff-3bfc-4084-a18b-52c5184173a9"
      },
      "source": [
        "glove_vectors.most_similar_cosmul('cat')"
      ],
      "execution_count": null,
      "outputs": [
        {
          "output_type": "execute_result",
          "data": {
            "text/plain": [
              "[('dog', 0.8408365845680237),\n",
              " ('cats', 0.8407910466194153),\n",
              " ('pet', 0.7935174703598022),\n",
              " ('dogs', 0.7703826427459717),\n",
              " ('feline', 0.7448978424072266),\n",
              " ('monkey', 0.7439709901809692),\n",
              " ('horse', 0.7366058230400085),\n",
              " ('pets', 0.731742262840271),\n",
              " ('rabbit', 0.730437159538269),\n",
              " ('leopard', 0.7292724251747131)]"
            ]
          },
          "metadata": {
            "tags": []
          },
          "execution_count": 12
        }
      ]
    },
    {
      "cell_type": "code",
      "metadata": {
        "colab": {
          "base_uri": "https://localhost:8080/"
        },
        "id": "EHu6O4-6EXqI",
        "outputId": "42bef52f-f50d-45fc-f84e-1a28e721f236"
      },
      "source": [
        "glove_vectors.most_similar('loves', topn=10)"
      ],
      "execution_count": null,
      "outputs": [
        {
          "output_type": "execute_result",
          "data": {
            "text/plain": [
              "[('hates', 0.7345002889633179),\n",
              " ('likes', 0.6868317127227783),\n",
              " ('everybody', 0.6422836780548096),\n",
              " ('love', 0.6420263051986694),\n",
              " ('loved', 0.6281751394271851),\n",
              " ('knows', 0.6183099150657654),\n",
              " ('thinks', 0.6050291657447815),\n",
              " ('everyone', 0.5901667475700378),\n",
              " ('cares', 0.5732982158660889),\n",
              " ('dad', 0.5659530758857727)]"
            ]
          },
          "metadata": {
            "tags": []
          },
          "execution_count": 6
        }
      ]
    },
    {
      "cell_type": "code",
      "metadata": {
        "colab": {
          "base_uri": "https://localhost:8080/"
        },
        "id": "KQNHtkOtEX7v",
        "outputId": "067f6130-acb1-4f3e-b513-c75fdc9d411b"
      },
      "source": [
        "glove_vectors.most_similar('clever', topn=10)"
      ],
      "execution_count": null,
      "outputs": [
        {
          "output_type": "execute_result",
          "data": {
            "text/plain": [
              "[('ingenious', 0.6507227420806885),\n",
              " ('deft', 0.6288391351699829),\n",
              " ('witty', 0.6275102496147156),\n",
              " ('inventive', 0.6236376762390137),\n",
              " ('amusing', 0.6079595685005188),\n",
              " ('smart', 0.5833670496940613),\n",
              " ('cunning', 0.5803178548812866),\n",
              " ('imaginative', 0.5728482007980347),\n",
              " ('crafty', 0.5691623687744141),\n",
              " ('shrewd', 0.5673002600669861)]"
            ]
          },
          "metadata": {
            "tags": []
          },
          "execution_count": 7
        }
      ]
    },
    {
      "cell_type": "code",
      "metadata": {
        "colab": {
          "base_uri": "https://localhost:8080/"
        },
        "id": "TOmGxhDELaKk",
        "outputId": "65927b71-4830-4435-d566-391e5fb8e2d4"
      },
      "source": [
        "glove_vectors.most_similar('mandarin', topn=10)"
      ],
      "execution_count": null,
      "outputs": [
        {
          "output_type": "execute_result",
          "data": {
            "text/plain": [
              "[('cantonese', 0.7189104557037354),\n",
              " ('putonghua', 0.5567854046821594),\n",
              " ('fluent', 0.554000735282898),\n",
              " ('hokkien', 0.5090120434761047),\n",
              " ('dialect', 0.4945122301578522),\n",
              " ('languages', 0.47307640314102173),\n",
              " ('language', 0.4720301330089569),\n",
              " ('dialects', 0.4664885401725769),\n",
              " ('arabic', 0.4631619155406952),\n",
              " ('creole', 0.4627479314804077)]"
            ]
          },
          "metadata": {
            "tags": []
          },
          "execution_count": 8
        }
      ]
    },
    {
      "cell_type": "markdown",
      "metadata": {
        "id": "ZNYJo4LQbvM_"
      },
      "source": [
        "### 4. GloVe\n",
        "This model combines two ideas:\n",
        "1. Factorization of the matrix, as in LSA\n",
        "2. Context of word is adjacent words in the corpus, just in word2vec.\n",
        "\n",
        "Let matrix $X$ at position $i,j$ stores how many times the word $j$ was found in the context of word $i$. This matrix is filled with our corpus of text. Then the probability that the word $j$ appears in the context of word $i$ is equal to\n",
        "$$P_{ij} = \\frac{X_{ij}}{\\sum_k X_{ik}}$$\n",
        "\n",
        "At the same time we want to find some function $F$ and word embeddings that \n",
        "$$F((w_i - w_j)^T w_k) = \\frac{F(w_i^T w_k)}{F(w_j^T w_k)} = \\frac{P_{ik}}{P_{jk}}.$$\n",
        "About motivation it's better to read in the original [paper](http://nlp.stanford.edu/pubs/glove.pdf).\n",
        "Possible solution may be following\n",
        "$$\\exp(w_i^T w_j) = P_{ij}.$$\n",
        "\n",
        "After a series of transformations you can receive that\n",
        "$$w_i^T w_j = \\log X_{ij} - \\log\\big(\\sum_k X_{ik}\\big)$$\n",
        "\n",
        "Obviously, right part doesn't depend on $j$, but the resulting model is offered to be written symmetry as\n",
        "$$w_i^T w_j + b_i + b_j = \\log X_{ij}$$\n",
        "\n",
        "As loss function authors suggest to use weighted MSE\n",
        "$$\\mathcal{L} = \\sum_{i,j = 1}^{|W|} f(X_{ij}) \\Big(w_i^T w_j + b_i + b_j - \\log(X_{ij}) \\Big)^2,$$\n",
        "where $f$ is some weight function, defined for each pair of words. It is reasonable to store $X$ as sparse matrix. It is also noteworthy that during training only **not null** values of $X$ used. Model is trained with stochastic gradient descent. As some way of regularization the authors suggest to use two different matrices $W$ и $W'$ for word and context, so model can be rewritten as\n",
        "$$w_i^T {w'}_j + b_i + b_j = \\log X_{ij}$$\n",
        "The resulted embedding of a word is the sum of two trained views $w + w'$.\n",
        "\n",
        "#### Some additional GloVe tricks\n",
        "1. In order to understand how you can choose $f$, please, read the original paper.\n",
        "2. Also you are welcome to see, how $X$ is formed in the original article.\n",
        "\n",
        "#### Further reading\n",
        "1. GloVe [site](http://nlp.stanford.edu/projects/glove/).\n",
        "2. Some words about [t-SNE](http://lvdmaaten.github.io/tsne/).\n",
        "\n",
        "#### Exercises\n",
        "1. Estimate complexity of model for one iteration. Choose appropriate $c$ for you.\n",
        "2. Train GloVe word embeddings ($d$=256).\n",
        "3. Check that v(king) - v(man) + v(women) is approximately equal v(queen).\n",
        "4. Read about [t-SNE](https://en.wikipedia.org/wiki/T-distributed_stochastic_neighbor_embedding).\n",
        "5. Use t-SNE to reduce the size of embeddings to 3. Make sure that the following groups of vectors are collinear (use visualization)\n",
        "  * [man, woman], [Mr., Ms], [king, queen], etc\n",
        "  * [CEO, company]\n",
        "  * [adjective, its comparative form]"
      ]
    },
    {
      "cell_type": "markdown",
      "metadata": {
        "id": "kZJuSNPGbvNI"
      },
      "source": [
        "### 5. FastText\n",
        "[FastText](https://arxiv.org/pdf/1607.04606.pdf) is a logical development of skip-gram model. The core feature is to present the word as the sum of its n-grams embeddings and its own embedding vector. For example, if we want to use only 3-grams, than word **fast** be reprented as n-grams **-fa**, **fas**, **ast**, **st-** and word **-fast-**. The context is encoeded in usual way, as a result similarity of word and context word is the following sum\n",
        "$$s(w, c) = \\sum_{n \\in N_w} z^{T}_n v'_{c},$$\n",
        "where $N_w$ is the set of all n-grams of word $w$ combined with word itself. The authors argue that the use of combination of 3-,4- and 5-grams helps to get better embeddings for rare and even unknown words (emdedding of word itself is null vector). For model training is proposed to use negative sampling.\n",
        "\n",
        "You can find more information on [site](https://fasttext.cc) of FastText.\n",
        "\n",
        "#### Exercises\n",
        "1. Load FastText word embeddings.\n",
        "2. Find some rare words in your corpus and find top-5 nearest words for them, using cosinus as metric.\n",
        "3. Compare results with classic word2vec.\n",
        "4. Invent some funny new word and found its top-5 nearest words again.\n",
        "5. How could you compare all models. Suggest your metric (see papers for inspiration)."
      ]
    }
  ]
}