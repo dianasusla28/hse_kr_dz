{
  "nbformat": 4,
  "nbformat_minor": 0,
  "metadata": {
    "colab": {
      "name": "lab-2-Susla-Diana.ipynb",
      "provenance": []
    },
    "kernelspec": {
      "display_name": "Python 3",
      "language": "python",
      "name": "python3"
    },
    "language_info": {
      "codemirror_mode": {
        "name": "ipython",
        "version": 3
      },
      "file_extension": ".py",
      "mimetype": "text/x-python",
      "name": "python",
      "nbconvert_exporter": "python",
      "pygments_lexer": "ipython3",
      "version": "3.8.6"
    },
    "widgets": {
      "application/vnd.jupyter.widget-state+json": {
        "8198b2a9eb454366a8615b5460579b97": {
          "model_module": "@jupyter-widgets/controls",
          "model_name": "HBoxModel",
          "state": {
            "_view_name": "HBoxView",
            "_dom_classes": [],
            "_model_name": "HBoxModel",
            "_view_module": "@jupyter-widgets/controls",
            "_model_module_version": "1.5.0",
            "_view_count": null,
            "_view_module_version": "1.5.0",
            "box_style": "",
            "layout": "IPY_MODEL_97f5bedd40ce4eae8f5c7dccb95f9ab7",
            "_model_module": "@jupyter-widgets/controls",
            "children": [
              "IPY_MODEL_3f6007b5468c4a6a98fca1b28c237827",
              "IPY_MODEL_b9fbe6c0d3ae4802b36418f5c9180190"
            ]
          }
        },
        "97f5bedd40ce4eae8f5c7dccb95f9ab7": {
          "model_module": "@jupyter-widgets/base",
          "model_name": "LayoutModel",
          "state": {
            "_view_name": "LayoutView",
            "grid_template_rows": null,
            "right": null,
            "justify_content": null,
            "_view_module": "@jupyter-widgets/base",
            "overflow": null,
            "_model_module_version": "1.2.0",
            "_view_count": null,
            "flex_flow": null,
            "width": null,
            "min_width": null,
            "border": null,
            "align_items": null,
            "bottom": null,
            "_model_module": "@jupyter-widgets/base",
            "top": null,
            "grid_column": null,
            "overflow_y": null,
            "overflow_x": null,
            "grid_auto_flow": null,
            "grid_area": null,
            "grid_template_columns": null,
            "flex": null,
            "_model_name": "LayoutModel",
            "justify_items": null,
            "grid_row": null,
            "max_height": null,
            "align_content": null,
            "visibility": null,
            "align_self": null,
            "height": null,
            "min_height": null,
            "padding": null,
            "grid_auto_rows": null,
            "grid_gap": null,
            "max_width": null,
            "order": null,
            "_view_module_version": "1.2.0",
            "grid_template_areas": null,
            "object_position": null,
            "object_fit": null,
            "grid_auto_columns": null,
            "margin": null,
            "display": null,
            "left": null
          }
        },
        "3f6007b5468c4a6a98fca1b28c237827": {
          "model_module": "@jupyter-widgets/controls",
          "model_name": "FloatProgressModel",
          "state": {
            "_view_name": "ProgressView",
            "style": "IPY_MODEL_b3510fde167d4806a7d29b0d3aaadb34",
            "_dom_classes": [],
            "description": "",
            "_model_name": "FloatProgressModel",
            "bar_style": "success",
            "max": 1,
            "_view_module": "@jupyter-widgets/controls",
            "_model_module_version": "1.5.0",
            "value": 1,
            "_view_count": null,
            "_view_module_version": "1.5.0",
            "orientation": "horizontal",
            "min": 0,
            "description_tooltip": null,
            "_model_module": "@jupyter-widgets/controls",
            "layout": "IPY_MODEL_459b21f9bbef4f22aa5ec5a1a00cdcc7"
          }
        },
        "b9fbe6c0d3ae4802b36418f5c9180190": {
          "model_module": "@jupyter-widgets/controls",
          "model_name": "HTMLModel",
          "state": {
            "_view_name": "HTMLView",
            "style": "IPY_MODEL_38a3f900bc544412aefd4327da0185ed",
            "_dom_classes": [],
            "description": "",
            "_model_name": "HTMLModel",
            "placeholder": "​",
            "_view_module": "@jupyter-widgets/controls",
            "_model_module_version": "1.5.0",
            "value": " 9920512/? [00:04&lt;00:00, 2299172.17it/s]",
            "_view_count": null,
            "_view_module_version": "1.5.0",
            "description_tooltip": null,
            "_model_module": "@jupyter-widgets/controls",
            "layout": "IPY_MODEL_656b9103f90947d3b3c24cbedd3c31d1"
          }
        },
        "b3510fde167d4806a7d29b0d3aaadb34": {
          "model_module": "@jupyter-widgets/controls",
          "model_name": "ProgressStyleModel",
          "state": {
            "_view_name": "StyleView",
            "_model_name": "ProgressStyleModel",
            "description_width": "initial",
            "_view_module": "@jupyter-widgets/base",
            "_model_module_version": "1.5.0",
            "_view_count": null,
            "_view_module_version": "1.2.0",
            "bar_color": null,
            "_model_module": "@jupyter-widgets/controls"
          }
        },
        "459b21f9bbef4f22aa5ec5a1a00cdcc7": {
          "model_module": "@jupyter-widgets/base",
          "model_name": "LayoutModel",
          "state": {
            "_view_name": "LayoutView",
            "grid_template_rows": null,
            "right": null,
            "justify_content": null,
            "_view_module": "@jupyter-widgets/base",
            "overflow": null,
            "_model_module_version": "1.2.0",
            "_view_count": null,
            "flex_flow": null,
            "width": null,
            "min_width": null,
            "border": null,
            "align_items": null,
            "bottom": null,
            "_model_module": "@jupyter-widgets/base",
            "top": null,
            "grid_column": null,
            "overflow_y": null,
            "overflow_x": null,
            "grid_auto_flow": null,
            "grid_area": null,
            "grid_template_columns": null,
            "flex": null,
            "_model_name": "LayoutModel",
            "justify_items": null,
            "grid_row": null,
            "max_height": null,
            "align_content": null,
            "visibility": null,
            "align_self": null,
            "height": null,
            "min_height": null,
            "padding": null,
            "grid_auto_rows": null,
            "grid_gap": null,
            "max_width": null,
            "order": null,
            "_view_module_version": "1.2.0",
            "grid_template_areas": null,
            "object_position": null,
            "object_fit": null,
            "grid_auto_columns": null,
            "margin": null,
            "display": null,
            "left": null
          }
        },
        "38a3f900bc544412aefd4327da0185ed": {
          "model_module": "@jupyter-widgets/controls",
          "model_name": "DescriptionStyleModel",
          "state": {
            "_view_name": "StyleView",
            "_model_name": "DescriptionStyleModel",
            "description_width": "",
            "_view_module": "@jupyter-widgets/base",
            "_model_module_version": "1.5.0",
            "_view_count": null,
            "_view_module_version": "1.2.0",
            "_model_module": "@jupyter-widgets/controls"
          }
        },
        "656b9103f90947d3b3c24cbedd3c31d1": {
          "model_module": "@jupyter-widgets/base",
          "model_name": "LayoutModel",
          "state": {
            "_view_name": "LayoutView",
            "grid_template_rows": null,
            "right": null,
            "justify_content": null,
            "_view_module": "@jupyter-widgets/base",
            "overflow": null,
            "_model_module_version": "1.2.0",
            "_view_count": null,
            "flex_flow": null,
            "width": null,
            "min_width": null,
            "border": null,
            "align_items": null,
            "bottom": null,
            "_model_module": "@jupyter-widgets/base",
            "top": null,
            "grid_column": null,
            "overflow_y": null,
            "overflow_x": null,
            "grid_auto_flow": null,
            "grid_area": null,
            "grid_template_columns": null,
            "flex": null,
            "_model_name": "LayoutModel",
            "justify_items": null,
            "grid_row": null,
            "max_height": null,
            "align_content": null,
            "visibility": null,
            "align_self": null,
            "height": null,
            "min_height": null,
            "padding": null,
            "grid_auto_rows": null,
            "grid_gap": null,
            "max_width": null,
            "order": null,
            "_view_module_version": "1.2.0",
            "grid_template_areas": null,
            "object_position": null,
            "object_fit": null,
            "grid_auto_columns": null,
            "margin": null,
            "display": null,
            "left": null
          }
        },
        "511555598afb43238f9dbf8a4b9d994b": {
          "model_module": "@jupyter-widgets/controls",
          "model_name": "HBoxModel",
          "state": {
            "_view_name": "HBoxView",
            "_dom_classes": [],
            "_model_name": "HBoxModel",
            "_view_module": "@jupyter-widgets/controls",
            "_model_module_version": "1.5.0",
            "_view_count": null,
            "_view_module_version": "1.5.0",
            "box_style": "",
            "layout": "IPY_MODEL_ae23dd6f91df4b349d39e75054d84725",
            "_model_module": "@jupyter-widgets/controls",
            "children": [
              "IPY_MODEL_b372e2b891084c84bc182ab877fd7578",
              "IPY_MODEL_65a198097a9c4d5ab1a8d6a61e3900e3"
            ]
          }
        },
        "ae23dd6f91df4b349d39e75054d84725": {
          "model_module": "@jupyter-widgets/base",
          "model_name": "LayoutModel",
          "state": {
            "_view_name": "LayoutView",
            "grid_template_rows": null,
            "right": null,
            "justify_content": null,
            "_view_module": "@jupyter-widgets/base",
            "overflow": null,
            "_model_module_version": "1.2.0",
            "_view_count": null,
            "flex_flow": null,
            "width": null,
            "min_width": null,
            "border": null,
            "align_items": null,
            "bottom": null,
            "_model_module": "@jupyter-widgets/base",
            "top": null,
            "grid_column": null,
            "overflow_y": null,
            "overflow_x": null,
            "grid_auto_flow": null,
            "grid_area": null,
            "grid_template_columns": null,
            "flex": null,
            "_model_name": "LayoutModel",
            "justify_items": null,
            "grid_row": null,
            "max_height": null,
            "align_content": null,
            "visibility": null,
            "align_self": null,
            "height": null,
            "min_height": null,
            "padding": null,
            "grid_auto_rows": null,
            "grid_gap": null,
            "max_width": null,
            "order": null,
            "_view_module_version": "1.2.0",
            "grid_template_areas": null,
            "object_position": null,
            "object_fit": null,
            "grid_auto_columns": null,
            "margin": null,
            "display": null,
            "left": null
          }
        },
        "b372e2b891084c84bc182ab877fd7578": {
          "model_module": "@jupyter-widgets/controls",
          "model_name": "FloatProgressModel",
          "state": {
            "_view_name": "ProgressView",
            "style": "IPY_MODEL_7bd438530cff4e25ab7be1bf3a13d41c",
            "_dom_classes": [],
            "description": "  0%",
            "_model_name": "FloatProgressModel",
            "bar_style": "info",
            "max": 1,
            "_view_module": "@jupyter-widgets/controls",
            "_model_module_version": "1.5.0",
            "value": 0,
            "_view_count": null,
            "_view_module_version": "1.5.0",
            "orientation": "horizontal",
            "min": 0,
            "description_tooltip": null,
            "_model_module": "@jupyter-widgets/controls",
            "layout": "IPY_MODEL_2da2b4ccf23e467d977af826c25188be"
          }
        },
        "65a198097a9c4d5ab1a8d6a61e3900e3": {
          "model_module": "@jupyter-widgets/controls",
          "model_name": "HTMLModel",
          "state": {
            "_view_name": "HTMLView",
            "style": "IPY_MODEL_4c00b22cc6c648efac67360a277b39c9",
            "_dom_classes": [],
            "description": "",
            "_model_name": "HTMLModel",
            "placeholder": "​",
            "_view_module": "@jupyter-widgets/controls",
            "_model_module_version": "1.5.0",
            "value": " 0/28881 [00:00&lt;?, ?it/s]",
            "_view_count": null,
            "_view_module_version": "1.5.0",
            "description_tooltip": null,
            "_model_module": "@jupyter-widgets/controls",
            "layout": "IPY_MODEL_10deab7797814e07bbef659250ff9fea"
          }
        },
        "7bd438530cff4e25ab7be1bf3a13d41c": {
          "model_module": "@jupyter-widgets/controls",
          "model_name": "ProgressStyleModel",
          "state": {
            "_view_name": "StyleView",
            "_model_name": "ProgressStyleModel",
            "description_width": "initial",
            "_view_module": "@jupyter-widgets/base",
            "_model_module_version": "1.5.0",
            "_view_count": null,
            "_view_module_version": "1.2.0",
            "bar_color": null,
            "_model_module": "@jupyter-widgets/controls"
          }
        },
        "2da2b4ccf23e467d977af826c25188be": {
          "model_module": "@jupyter-widgets/base",
          "model_name": "LayoutModel",
          "state": {
            "_view_name": "LayoutView",
            "grid_template_rows": null,
            "right": null,
            "justify_content": null,
            "_view_module": "@jupyter-widgets/base",
            "overflow": null,
            "_model_module_version": "1.2.0",
            "_view_count": null,
            "flex_flow": null,
            "width": null,
            "min_width": null,
            "border": null,
            "align_items": null,
            "bottom": null,
            "_model_module": "@jupyter-widgets/base",
            "top": null,
            "grid_column": null,
            "overflow_y": null,
            "overflow_x": null,
            "grid_auto_flow": null,
            "grid_area": null,
            "grid_template_columns": null,
            "flex": null,
            "_model_name": "LayoutModel",
            "justify_items": null,
            "grid_row": null,
            "max_height": null,
            "align_content": null,
            "visibility": null,
            "align_self": null,
            "height": null,
            "min_height": null,
            "padding": null,
            "grid_auto_rows": null,
            "grid_gap": null,
            "max_width": null,
            "order": null,
            "_view_module_version": "1.2.0",
            "grid_template_areas": null,
            "object_position": null,
            "object_fit": null,
            "grid_auto_columns": null,
            "margin": null,
            "display": null,
            "left": null
          }
        },
        "4c00b22cc6c648efac67360a277b39c9": {
          "model_module": "@jupyter-widgets/controls",
          "model_name": "DescriptionStyleModel",
          "state": {
            "_view_name": "StyleView",
            "_model_name": "DescriptionStyleModel",
            "description_width": "",
            "_view_module": "@jupyter-widgets/base",
            "_model_module_version": "1.5.0",
            "_view_count": null,
            "_view_module_version": "1.2.0",
            "_model_module": "@jupyter-widgets/controls"
          }
        },
        "10deab7797814e07bbef659250ff9fea": {
          "model_module": "@jupyter-widgets/base",
          "model_name": "LayoutModel",
          "state": {
            "_view_name": "LayoutView",
            "grid_template_rows": null,
            "right": null,
            "justify_content": null,
            "_view_module": "@jupyter-widgets/base",
            "overflow": null,
            "_model_module_version": "1.2.0",
            "_view_count": null,
            "flex_flow": null,
            "width": null,
            "min_width": null,
            "border": null,
            "align_items": null,
            "bottom": null,
            "_model_module": "@jupyter-widgets/base",
            "top": null,
            "grid_column": null,
            "overflow_y": null,
            "overflow_x": null,
            "grid_auto_flow": null,
            "grid_area": null,
            "grid_template_columns": null,
            "flex": null,
            "_model_name": "LayoutModel",
            "justify_items": null,
            "grid_row": null,
            "max_height": null,
            "align_content": null,
            "visibility": null,
            "align_self": null,
            "height": null,
            "min_height": null,
            "padding": null,
            "grid_auto_rows": null,
            "grid_gap": null,
            "max_width": null,
            "order": null,
            "_view_module_version": "1.2.0",
            "grid_template_areas": null,
            "object_position": null,
            "object_fit": null,
            "grid_auto_columns": null,
            "margin": null,
            "display": null,
            "left": null
          }
        },
        "2e0f1bc901a34f9ea61620b8f03583af": {
          "model_module": "@jupyter-widgets/controls",
          "model_name": "HBoxModel",
          "state": {
            "_view_name": "HBoxView",
            "_dom_classes": [],
            "_model_name": "HBoxModel",
            "_view_module": "@jupyter-widgets/controls",
            "_model_module_version": "1.5.0",
            "_view_count": null,
            "_view_module_version": "1.5.0",
            "box_style": "",
            "layout": "IPY_MODEL_b2b9bc62f1a842cdb94cd3ea5b963c4b",
            "_model_module": "@jupyter-widgets/controls",
            "children": [
              "IPY_MODEL_b79e9b43ac0e4865b5b83672ef205ed4",
              "IPY_MODEL_772ba14a6dc64105affbe55bdc18408e"
            ]
          }
        },
        "b2b9bc62f1a842cdb94cd3ea5b963c4b": {
          "model_module": "@jupyter-widgets/base",
          "model_name": "LayoutModel",
          "state": {
            "_view_name": "LayoutView",
            "grid_template_rows": null,
            "right": null,
            "justify_content": null,
            "_view_module": "@jupyter-widgets/base",
            "overflow": null,
            "_model_module_version": "1.2.0",
            "_view_count": null,
            "flex_flow": null,
            "width": null,
            "min_width": null,
            "border": null,
            "align_items": null,
            "bottom": null,
            "_model_module": "@jupyter-widgets/base",
            "top": null,
            "grid_column": null,
            "overflow_y": null,
            "overflow_x": null,
            "grid_auto_flow": null,
            "grid_area": null,
            "grid_template_columns": null,
            "flex": null,
            "_model_name": "LayoutModel",
            "justify_items": null,
            "grid_row": null,
            "max_height": null,
            "align_content": null,
            "visibility": null,
            "align_self": null,
            "height": null,
            "min_height": null,
            "padding": null,
            "grid_auto_rows": null,
            "grid_gap": null,
            "max_width": null,
            "order": null,
            "_view_module_version": "1.2.0",
            "grid_template_areas": null,
            "object_position": null,
            "object_fit": null,
            "grid_auto_columns": null,
            "margin": null,
            "display": null,
            "left": null
          }
        },
        "b79e9b43ac0e4865b5b83672ef205ed4": {
          "model_module": "@jupyter-widgets/controls",
          "model_name": "FloatProgressModel",
          "state": {
            "_view_name": "ProgressView",
            "style": "IPY_MODEL_8f784a9b92a34060866c083da06a9371",
            "_dom_classes": [],
            "description": "",
            "_model_name": "FloatProgressModel",
            "bar_style": "success",
            "max": 1,
            "_view_module": "@jupyter-widgets/controls",
            "_model_module_version": "1.5.0",
            "value": 1,
            "_view_count": null,
            "_view_module_version": "1.5.0",
            "orientation": "horizontal",
            "min": 0,
            "description_tooltip": null,
            "_model_module": "@jupyter-widgets/controls",
            "layout": "IPY_MODEL_4c3375a11c9341659446039704d5a713"
          }
        },
        "772ba14a6dc64105affbe55bdc18408e": {
          "model_module": "@jupyter-widgets/controls",
          "model_name": "HTMLModel",
          "state": {
            "_view_name": "HTMLView",
            "style": "IPY_MODEL_5b227ff420bd49388cffc26e3773c8a5",
            "_dom_classes": [],
            "description": "",
            "_model_name": "HTMLModel",
            "placeholder": "​",
            "_view_module": "@jupyter-widgets/controls",
            "_model_module_version": "1.5.0",
            "value": " 1654784/? [00:02&lt;00:00, 633489.53it/s]",
            "_view_count": null,
            "_view_module_version": "1.5.0",
            "description_tooltip": null,
            "_model_module": "@jupyter-widgets/controls",
            "layout": "IPY_MODEL_b9f1617317ac4b8da7cfeb1c11366f6a"
          }
        },
        "8f784a9b92a34060866c083da06a9371": {
          "model_module": "@jupyter-widgets/controls",
          "model_name": "ProgressStyleModel",
          "state": {
            "_view_name": "StyleView",
            "_model_name": "ProgressStyleModel",
            "description_width": "initial",
            "_view_module": "@jupyter-widgets/base",
            "_model_module_version": "1.5.0",
            "_view_count": null,
            "_view_module_version": "1.2.0",
            "bar_color": null,
            "_model_module": "@jupyter-widgets/controls"
          }
        },
        "4c3375a11c9341659446039704d5a713": {
          "model_module": "@jupyter-widgets/base",
          "model_name": "LayoutModel",
          "state": {
            "_view_name": "LayoutView",
            "grid_template_rows": null,
            "right": null,
            "justify_content": null,
            "_view_module": "@jupyter-widgets/base",
            "overflow": null,
            "_model_module_version": "1.2.0",
            "_view_count": null,
            "flex_flow": null,
            "width": null,
            "min_width": null,
            "border": null,
            "align_items": null,
            "bottom": null,
            "_model_module": "@jupyter-widgets/base",
            "top": null,
            "grid_column": null,
            "overflow_y": null,
            "overflow_x": null,
            "grid_auto_flow": null,
            "grid_area": null,
            "grid_template_columns": null,
            "flex": null,
            "_model_name": "LayoutModel",
            "justify_items": null,
            "grid_row": null,
            "max_height": null,
            "align_content": null,
            "visibility": null,
            "align_self": null,
            "height": null,
            "min_height": null,
            "padding": null,
            "grid_auto_rows": null,
            "grid_gap": null,
            "max_width": null,
            "order": null,
            "_view_module_version": "1.2.0",
            "grid_template_areas": null,
            "object_position": null,
            "object_fit": null,
            "grid_auto_columns": null,
            "margin": null,
            "display": null,
            "left": null
          }
        },
        "5b227ff420bd49388cffc26e3773c8a5": {
          "model_module": "@jupyter-widgets/controls",
          "model_name": "DescriptionStyleModel",
          "state": {
            "_view_name": "StyleView",
            "_model_name": "DescriptionStyleModel",
            "description_width": "",
            "_view_module": "@jupyter-widgets/base",
            "_model_module_version": "1.5.0",
            "_view_count": null,
            "_view_module_version": "1.2.0",
            "_model_module": "@jupyter-widgets/controls"
          }
        },
        "b9f1617317ac4b8da7cfeb1c11366f6a": {
          "model_module": "@jupyter-widgets/base",
          "model_name": "LayoutModel",
          "state": {
            "_view_name": "LayoutView",
            "grid_template_rows": null,
            "right": null,
            "justify_content": null,
            "_view_module": "@jupyter-widgets/base",
            "overflow": null,
            "_model_module_version": "1.2.0",
            "_view_count": null,
            "flex_flow": null,
            "width": null,
            "min_width": null,
            "border": null,
            "align_items": null,
            "bottom": null,
            "_model_module": "@jupyter-widgets/base",
            "top": null,
            "grid_column": null,
            "overflow_y": null,
            "overflow_x": null,
            "grid_auto_flow": null,
            "grid_area": null,
            "grid_template_columns": null,
            "flex": null,
            "_model_name": "LayoutModel",
            "justify_items": null,
            "grid_row": null,
            "max_height": null,
            "align_content": null,
            "visibility": null,
            "align_self": null,
            "height": null,
            "min_height": null,
            "padding": null,
            "grid_auto_rows": null,
            "grid_gap": null,
            "max_width": null,
            "order": null,
            "_view_module_version": "1.2.0",
            "grid_template_areas": null,
            "object_position": null,
            "object_fit": null,
            "grid_auto_columns": null,
            "margin": null,
            "display": null,
            "left": null
          }
        },
        "ce691e120cfa484f88d073838ca1cdbd": {
          "model_module": "@jupyter-widgets/controls",
          "model_name": "HBoxModel",
          "state": {
            "_view_name": "HBoxView",
            "_dom_classes": [],
            "_model_name": "HBoxModel",
            "_view_module": "@jupyter-widgets/controls",
            "_model_module_version": "1.5.0",
            "_view_count": null,
            "_view_module_version": "1.5.0",
            "box_style": "",
            "layout": "IPY_MODEL_5178e0f37c894f8bbc1f0768f61244f9",
            "_model_module": "@jupyter-widgets/controls",
            "children": [
              "IPY_MODEL_78af77ce2fb44b4f90c89aee10d2e79f",
              "IPY_MODEL_ca2890d8b8bf4f9fa5f3a8f75f7558a2"
            ]
          }
        },
        "5178e0f37c894f8bbc1f0768f61244f9": {
          "model_module": "@jupyter-widgets/base",
          "model_name": "LayoutModel",
          "state": {
            "_view_name": "LayoutView",
            "grid_template_rows": null,
            "right": null,
            "justify_content": null,
            "_view_module": "@jupyter-widgets/base",
            "overflow": null,
            "_model_module_version": "1.2.0",
            "_view_count": null,
            "flex_flow": null,
            "width": null,
            "min_width": null,
            "border": null,
            "align_items": null,
            "bottom": null,
            "_model_module": "@jupyter-widgets/base",
            "top": null,
            "grid_column": null,
            "overflow_y": null,
            "overflow_x": null,
            "grid_auto_flow": null,
            "grid_area": null,
            "grid_template_columns": null,
            "flex": null,
            "_model_name": "LayoutModel",
            "justify_items": null,
            "grid_row": null,
            "max_height": null,
            "align_content": null,
            "visibility": null,
            "align_self": null,
            "height": null,
            "min_height": null,
            "padding": null,
            "grid_auto_rows": null,
            "grid_gap": null,
            "max_width": null,
            "order": null,
            "_view_module_version": "1.2.0",
            "grid_template_areas": null,
            "object_position": null,
            "object_fit": null,
            "grid_auto_columns": null,
            "margin": null,
            "display": null,
            "left": null
          }
        },
        "78af77ce2fb44b4f90c89aee10d2e79f": {
          "model_module": "@jupyter-widgets/controls",
          "model_name": "FloatProgressModel",
          "state": {
            "_view_name": "ProgressView",
            "style": "IPY_MODEL_b0e4cd70b9094823bcc1fc460e27ca9e",
            "_dom_classes": [],
            "description": "",
            "_model_name": "FloatProgressModel",
            "bar_style": "success",
            "max": 1,
            "_view_module": "@jupyter-widgets/controls",
            "_model_module_version": "1.5.0",
            "value": 1,
            "_view_count": null,
            "_view_module_version": "1.5.0",
            "orientation": "horizontal",
            "min": 0,
            "description_tooltip": null,
            "_model_module": "@jupyter-widgets/controls",
            "layout": "IPY_MODEL_cba78f97756148178c2859512ba8fb84"
          }
        },
        "ca2890d8b8bf4f9fa5f3a8f75f7558a2": {
          "model_module": "@jupyter-widgets/controls",
          "model_name": "HTMLModel",
          "state": {
            "_view_name": "HTMLView",
            "style": "IPY_MODEL_b6cd0fca095d49b7a550af1e4e6b9f89",
            "_dom_classes": [],
            "description": "",
            "_model_name": "HTMLModel",
            "placeholder": "​",
            "_view_module": "@jupyter-widgets/controls",
            "_model_module_version": "1.5.0",
            "value": " 8192/? [00:01&lt;00:00, 4435.55it/s]",
            "_view_count": null,
            "_view_module_version": "1.5.0",
            "description_tooltip": null,
            "_model_module": "@jupyter-widgets/controls",
            "layout": "IPY_MODEL_6eeba739513a46fd817516bb38ab1d70"
          }
        },
        "b0e4cd70b9094823bcc1fc460e27ca9e": {
          "model_module": "@jupyter-widgets/controls",
          "model_name": "ProgressStyleModel",
          "state": {
            "_view_name": "StyleView",
            "_model_name": "ProgressStyleModel",
            "description_width": "initial",
            "_view_module": "@jupyter-widgets/base",
            "_model_module_version": "1.5.0",
            "_view_count": null,
            "_view_module_version": "1.2.0",
            "bar_color": null,
            "_model_module": "@jupyter-widgets/controls"
          }
        },
        "cba78f97756148178c2859512ba8fb84": {
          "model_module": "@jupyter-widgets/base",
          "model_name": "LayoutModel",
          "state": {
            "_view_name": "LayoutView",
            "grid_template_rows": null,
            "right": null,
            "justify_content": null,
            "_view_module": "@jupyter-widgets/base",
            "overflow": null,
            "_model_module_version": "1.2.0",
            "_view_count": null,
            "flex_flow": null,
            "width": null,
            "min_width": null,
            "border": null,
            "align_items": null,
            "bottom": null,
            "_model_module": "@jupyter-widgets/base",
            "top": null,
            "grid_column": null,
            "overflow_y": null,
            "overflow_x": null,
            "grid_auto_flow": null,
            "grid_area": null,
            "grid_template_columns": null,
            "flex": null,
            "_model_name": "LayoutModel",
            "justify_items": null,
            "grid_row": null,
            "max_height": null,
            "align_content": null,
            "visibility": null,
            "align_self": null,
            "height": null,
            "min_height": null,
            "padding": null,
            "grid_auto_rows": null,
            "grid_gap": null,
            "max_width": null,
            "order": null,
            "_view_module_version": "1.2.0",
            "grid_template_areas": null,
            "object_position": null,
            "object_fit": null,
            "grid_auto_columns": null,
            "margin": null,
            "display": null,
            "left": null
          }
        },
        "b6cd0fca095d49b7a550af1e4e6b9f89": {
          "model_module": "@jupyter-widgets/controls",
          "model_name": "DescriptionStyleModel",
          "state": {
            "_view_name": "StyleView",
            "_model_name": "DescriptionStyleModel",
            "description_width": "",
            "_view_module": "@jupyter-widgets/base",
            "_model_module_version": "1.5.0",
            "_view_count": null,
            "_view_module_version": "1.2.0",
            "_model_module": "@jupyter-widgets/controls"
          }
        },
        "6eeba739513a46fd817516bb38ab1d70": {
          "model_module": "@jupyter-widgets/base",
          "model_name": "LayoutModel",
          "state": {
            "_view_name": "LayoutView",
            "grid_template_rows": null,
            "right": null,
            "justify_content": null,
            "_view_module": "@jupyter-widgets/base",
            "overflow": null,
            "_model_module_version": "1.2.0",
            "_view_count": null,
            "flex_flow": null,
            "width": null,
            "min_width": null,
            "border": null,
            "align_items": null,
            "bottom": null,
            "_model_module": "@jupyter-widgets/base",
            "top": null,
            "grid_column": null,
            "overflow_y": null,
            "overflow_x": null,
            "grid_auto_flow": null,
            "grid_area": null,
            "grid_template_columns": null,
            "flex": null,
            "_model_name": "LayoutModel",
            "justify_items": null,
            "grid_row": null,
            "max_height": null,
            "align_content": null,
            "visibility": null,
            "align_self": null,
            "height": null,
            "min_height": null,
            "padding": null,
            "grid_auto_rows": null,
            "grid_gap": null,
            "max_width": null,
            "order": null,
            "_view_module_version": "1.2.0",
            "grid_template_areas": null,
            "object_position": null,
            "object_fit": null,
            "grid_auto_columns": null,
            "margin": null,
            "display": null,
            "left": null
          }
        },
        "4bc0eb0f483749e6b2a0808668ac9af9": {
          "model_module": "@jupyter-widgets/controls",
          "model_name": "HBoxModel",
          "state": {
            "_view_name": "HBoxView",
            "_dom_classes": [],
            "_model_name": "HBoxModel",
            "_view_module": "@jupyter-widgets/controls",
            "_model_module_version": "1.5.0",
            "_view_count": null,
            "_view_module_version": "1.5.0",
            "box_style": "",
            "layout": "IPY_MODEL_be13a5eff50b4d5b880ac5f57044d192",
            "_model_module": "@jupyter-widgets/controls",
            "children": [
              "IPY_MODEL_5ec6731c2c18404eaf1f0d5025623219",
              "IPY_MODEL_e1f0c6d3ae1d4703a46f8a25a598c9fa"
            ]
          }
        },
        "be13a5eff50b4d5b880ac5f57044d192": {
          "model_module": "@jupyter-widgets/base",
          "model_name": "LayoutModel",
          "state": {
            "_view_name": "LayoutView",
            "grid_template_rows": null,
            "right": null,
            "justify_content": null,
            "_view_module": "@jupyter-widgets/base",
            "overflow": null,
            "_model_module_version": "1.2.0",
            "_view_count": null,
            "flex_flow": null,
            "width": null,
            "min_width": null,
            "border": null,
            "align_items": null,
            "bottom": null,
            "_model_module": "@jupyter-widgets/base",
            "top": null,
            "grid_column": null,
            "overflow_y": null,
            "overflow_x": null,
            "grid_auto_flow": null,
            "grid_area": null,
            "grid_template_columns": null,
            "flex": null,
            "_model_name": "LayoutModel",
            "justify_items": null,
            "grid_row": null,
            "max_height": null,
            "align_content": null,
            "visibility": null,
            "align_self": null,
            "height": null,
            "min_height": null,
            "padding": null,
            "grid_auto_rows": null,
            "grid_gap": null,
            "max_width": null,
            "order": null,
            "_view_module_version": "1.2.0",
            "grid_template_areas": null,
            "object_position": null,
            "object_fit": null,
            "grid_auto_columns": null,
            "margin": null,
            "display": null,
            "left": null
          }
        },
        "5ec6731c2c18404eaf1f0d5025623219": {
          "model_module": "@jupyter-widgets/controls",
          "model_name": "FloatProgressModel",
          "state": {
            "_view_name": "ProgressView",
            "style": "IPY_MODEL_73aceeac0f39418090a38563a51ce176",
            "_dom_classes": [],
            "description": "",
            "_model_name": "FloatProgressModel",
            "bar_style": "success",
            "max": 1,
            "_view_module": "@jupyter-widgets/controls",
            "_model_module_version": "1.5.0",
            "value": 1,
            "_view_count": null,
            "_view_module_version": "1.5.0",
            "orientation": "horizontal",
            "min": 0,
            "description_tooltip": null,
            "_model_module": "@jupyter-widgets/controls",
            "layout": "IPY_MODEL_51639889afcc4eae8a96e4a1678df524"
          }
        },
        "e1f0c6d3ae1d4703a46f8a25a598c9fa": {
          "model_module": "@jupyter-widgets/controls",
          "model_name": "HTMLModel",
          "state": {
            "_view_name": "HTMLView",
            "style": "IPY_MODEL_92a5d2da444842fabff7419efebace7e",
            "_dom_classes": [],
            "description": "",
            "_model_name": "HTMLModel",
            "placeholder": "​",
            "_view_module": "@jupyter-widgets/controls",
            "_model_module_version": "1.5.0",
            "value": " 9920512/? [00:01&lt;00:00, 6931982.88it/s]",
            "_view_count": null,
            "_view_module_version": "1.5.0",
            "description_tooltip": null,
            "_model_module": "@jupyter-widgets/controls",
            "layout": "IPY_MODEL_30f47760b67c41a6a923d29014ef442e"
          }
        },
        "73aceeac0f39418090a38563a51ce176": {
          "model_module": "@jupyter-widgets/controls",
          "model_name": "ProgressStyleModel",
          "state": {
            "_view_name": "StyleView",
            "_model_name": "ProgressStyleModel",
            "description_width": "initial",
            "_view_module": "@jupyter-widgets/base",
            "_model_module_version": "1.5.0",
            "_view_count": null,
            "_view_module_version": "1.2.0",
            "bar_color": null,
            "_model_module": "@jupyter-widgets/controls"
          }
        },
        "51639889afcc4eae8a96e4a1678df524": {
          "model_module": "@jupyter-widgets/base",
          "model_name": "LayoutModel",
          "state": {
            "_view_name": "LayoutView",
            "grid_template_rows": null,
            "right": null,
            "justify_content": null,
            "_view_module": "@jupyter-widgets/base",
            "overflow": null,
            "_model_module_version": "1.2.0",
            "_view_count": null,
            "flex_flow": null,
            "width": null,
            "min_width": null,
            "border": null,
            "align_items": null,
            "bottom": null,
            "_model_module": "@jupyter-widgets/base",
            "top": null,
            "grid_column": null,
            "overflow_y": null,
            "overflow_x": null,
            "grid_auto_flow": null,
            "grid_area": null,
            "grid_template_columns": null,
            "flex": null,
            "_model_name": "LayoutModel",
            "justify_items": null,
            "grid_row": null,
            "max_height": null,
            "align_content": null,
            "visibility": null,
            "align_self": null,
            "height": null,
            "min_height": null,
            "padding": null,
            "grid_auto_rows": null,
            "grid_gap": null,
            "max_width": null,
            "order": null,
            "_view_module_version": "1.2.0",
            "grid_template_areas": null,
            "object_position": null,
            "object_fit": null,
            "grid_auto_columns": null,
            "margin": null,
            "display": null,
            "left": null
          }
        },
        "92a5d2da444842fabff7419efebace7e": {
          "model_module": "@jupyter-widgets/controls",
          "model_name": "DescriptionStyleModel",
          "state": {
            "_view_name": "StyleView",
            "_model_name": "DescriptionStyleModel",
            "description_width": "",
            "_view_module": "@jupyter-widgets/base",
            "_model_module_version": "1.5.0",
            "_view_count": null,
            "_view_module_version": "1.2.0",
            "_model_module": "@jupyter-widgets/controls"
          }
        },
        "30f47760b67c41a6a923d29014ef442e": {
          "model_module": "@jupyter-widgets/base",
          "model_name": "LayoutModel",
          "state": {
            "_view_name": "LayoutView",
            "grid_template_rows": null,
            "right": null,
            "justify_content": null,
            "_view_module": "@jupyter-widgets/base",
            "overflow": null,
            "_model_module_version": "1.2.0",
            "_view_count": null,
            "flex_flow": null,
            "width": null,
            "min_width": null,
            "border": null,
            "align_items": null,
            "bottom": null,
            "_model_module": "@jupyter-widgets/base",
            "top": null,
            "grid_column": null,
            "overflow_y": null,
            "overflow_x": null,
            "grid_auto_flow": null,
            "grid_area": null,
            "grid_template_columns": null,
            "flex": null,
            "_model_name": "LayoutModel",
            "justify_items": null,
            "grid_row": null,
            "max_height": null,
            "align_content": null,
            "visibility": null,
            "align_self": null,
            "height": null,
            "min_height": null,
            "padding": null,
            "grid_auto_rows": null,
            "grid_gap": null,
            "max_width": null,
            "order": null,
            "_view_module_version": "1.2.0",
            "grid_template_areas": null,
            "object_position": null,
            "object_fit": null,
            "grid_auto_columns": null,
            "margin": null,
            "display": null,
            "left": null
          }
        },
        "c98ed6c191144a5498fbee6c027ebef9": {
          "model_module": "@jupyter-widgets/controls",
          "model_name": "HBoxModel",
          "state": {
            "_view_name": "HBoxView",
            "_dom_classes": [],
            "_model_name": "HBoxModel",
            "_view_module": "@jupyter-widgets/controls",
            "_model_module_version": "1.5.0",
            "_view_count": null,
            "_view_module_version": "1.5.0",
            "box_style": "",
            "layout": "IPY_MODEL_dc96a121c96d4e4b842119e07b4dc8de",
            "_model_module": "@jupyter-widgets/controls",
            "children": [
              "IPY_MODEL_ca10530537ac4179a6ebd058af721e79",
              "IPY_MODEL_386d5e67cb734b7895875f41a4d5faf6"
            ]
          }
        },
        "dc96a121c96d4e4b842119e07b4dc8de": {
          "model_module": "@jupyter-widgets/base",
          "model_name": "LayoutModel",
          "state": {
            "_view_name": "LayoutView",
            "grid_template_rows": null,
            "right": null,
            "justify_content": null,
            "_view_module": "@jupyter-widgets/base",
            "overflow": null,
            "_model_module_version": "1.2.0",
            "_view_count": null,
            "flex_flow": null,
            "width": null,
            "min_width": null,
            "border": null,
            "align_items": null,
            "bottom": null,
            "_model_module": "@jupyter-widgets/base",
            "top": null,
            "grid_column": null,
            "overflow_y": null,
            "overflow_x": null,
            "grid_auto_flow": null,
            "grid_area": null,
            "grid_template_columns": null,
            "flex": null,
            "_model_name": "LayoutModel",
            "justify_items": null,
            "grid_row": null,
            "max_height": null,
            "align_content": null,
            "visibility": null,
            "align_self": null,
            "height": null,
            "min_height": null,
            "padding": null,
            "grid_auto_rows": null,
            "grid_gap": null,
            "max_width": null,
            "order": null,
            "_view_module_version": "1.2.0",
            "grid_template_areas": null,
            "object_position": null,
            "object_fit": null,
            "grid_auto_columns": null,
            "margin": null,
            "display": null,
            "left": null
          }
        },
        "ca10530537ac4179a6ebd058af721e79": {
          "model_module": "@jupyter-widgets/controls",
          "model_name": "FloatProgressModel",
          "state": {
            "_view_name": "ProgressView",
            "style": "IPY_MODEL_316e6b04c1f541829691f10247e1c2aa",
            "_dom_classes": [],
            "description": "  0%",
            "_model_name": "FloatProgressModel",
            "bar_style": "info",
            "max": 1,
            "_view_module": "@jupyter-widgets/controls",
            "_model_module_version": "1.5.0",
            "value": 0,
            "_view_count": null,
            "_view_module_version": "1.5.0",
            "orientation": "horizontal",
            "min": 0,
            "description_tooltip": null,
            "_model_module": "@jupyter-widgets/controls",
            "layout": "IPY_MODEL_612538bb2a884a2da615e3d56742e10c"
          }
        },
        "386d5e67cb734b7895875f41a4d5faf6": {
          "model_module": "@jupyter-widgets/controls",
          "model_name": "HTMLModel",
          "state": {
            "_view_name": "HTMLView",
            "style": "IPY_MODEL_3be45e2eed5d41e58c944b742e2ae6c7",
            "_dom_classes": [],
            "description": "",
            "_model_name": "HTMLModel",
            "placeholder": "​",
            "_view_module": "@jupyter-widgets/controls",
            "_model_module_version": "1.5.0",
            "value": " 0/28881 [00:00&lt;?, ?it/s]",
            "_view_count": null,
            "_view_module_version": "1.5.0",
            "description_tooltip": null,
            "_model_module": "@jupyter-widgets/controls",
            "layout": "IPY_MODEL_fc2681751f594be881cfac1ff4e9c549"
          }
        },
        "316e6b04c1f541829691f10247e1c2aa": {
          "model_module": "@jupyter-widgets/controls",
          "model_name": "ProgressStyleModel",
          "state": {
            "_view_name": "StyleView",
            "_model_name": "ProgressStyleModel",
            "description_width": "initial",
            "_view_module": "@jupyter-widgets/base",
            "_model_module_version": "1.5.0",
            "_view_count": null,
            "_view_module_version": "1.2.0",
            "bar_color": null,
            "_model_module": "@jupyter-widgets/controls"
          }
        },
        "612538bb2a884a2da615e3d56742e10c": {
          "model_module": "@jupyter-widgets/base",
          "model_name": "LayoutModel",
          "state": {
            "_view_name": "LayoutView",
            "grid_template_rows": null,
            "right": null,
            "justify_content": null,
            "_view_module": "@jupyter-widgets/base",
            "overflow": null,
            "_model_module_version": "1.2.0",
            "_view_count": null,
            "flex_flow": null,
            "width": null,
            "min_width": null,
            "border": null,
            "align_items": null,
            "bottom": null,
            "_model_module": "@jupyter-widgets/base",
            "top": null,
            "grid_column": null,
            "overflow_y": null,
            "overflow_x": null,
            "grid_auto_flow": null,
            "grid_area": null,
            "grid_template_columns": null,
            "flex": null,
            "_model_name": "LayoutModel",
            "justify_items": null,
            "grid_row": null,
            "max_height": null,
            "align_content": null,
            "visibility": null,
            "align_self": null,
            "height": null,
            "min_height": null,
            "padding": null,
            "grid_auto_rows": null,
            "grid_gap": null,
            "max_width": null,
            "order": null,
            "_view_module_version": "1.2.0",
            "grid_template_areas": null,
            "object_position": null,
            "object_fit": null,
            "grid_auto_columns": null,
            "margin": null,
            "display": null,
            "left": null
          }
        },
        "3be45e2eed5d41e58c944b742e2ae6c7": {
          "model_module": "@jupyter-widgets/controls",
          "model_name": "DescriptionStyleModel",
          "state": {
            "_view_name": "StyleView",
            "_model_name": "DescriptionStyleModel",
            "description_width": "",
            "_view_module": "@jupyter-widgets/base",
            "_model_module_version": "1.5.0",
            "_view_count": null,
            "_view_module_version": "1.2.0",
            "_model_module": "@jupyter-widgets/controls"
          }
        },
        "fc2681751f594be881cfac1ff4e9c549": {
          "model_module": "@jupyter-widgets/base",
          "model_name": "LayoutModel",
          "state": {
            "_view_name": "LayoutView",
            "grid_template_rows": null,
            "right": null,
            "justify_content": null,
            "_view_module": "@jupyter-widgets/base",
            "overflow": null,
            "_model_module_version": "1.2.0",
            "_view_count": null,
            "flex_flow": null,
            "width": null,
            "min_width": null,
            "border": null,
            "align_items": null,
            "bottom": null,
            "_model_module": "@jupyter-widgets/base",
            "top": null,
            "grid_column": null,
            "overflow_y": null,
            "overflow_x": null,
            "grid_auto_flow": null,
            "grid_area": null,
            "grid_template_columns": null,
            "flex": null,
            "_model_name": "LayoutModel",
            "justify_items": null,
            "grid_row": null,
            "max_height": null,
            "align_content": null,
            "visibility": null,
            "align_self": null,
            "height": null,
            "min_height": null,
            "padding": null,
            "grid_auto_rows": null,
            "grid_gap": null,
            "max_width": null,
            "order": null,
            "_view_module_version": "1.2.0",
            "grid_template_areas": null,
            "object_position": null,
            "object_fit": null,
            "grid_auto_columns": null,
            "margin": null,
            "display": null,
            "left": null
          }
        },
        "10c1be5ca21d4f9595fbc2057e5a52cb": {
          "model_module": "@jupyter-widgets/controls",
          "model_name": "HBoxModel",
          "state": {
            "_view_name": "HBoxView",
            "_dom_classes": [],
            "_model_name": "HBoxModel",
            "_view_module": "@jupyter-widgets/controls",
            "_model_module_version": "1.5.0",
            "_view_count": null,
            "_view_module_version": "1.5.0",
            "box_style": "",
            "layout": "IPY_MODEL_41a57117bd6c4c63bb658e76820a7278",
            "_model_module": "@jupyter-widgets/controls",
            "children": [
              "IPY_MODEL_c1f0d331ee144a8fbc9d59b5fc590b40",
              "IPY_MODEL_0936be7633564500bd9c993c90bff398"
            ]
          }
        },
        "41a57117bd6c4c63bb658e76820a7278": {
          "model_module": "@jupyter-widgets/base",
          "model_name": "LayoutModel",
          "state": {
            "_view_name": "LayoutView",
            "grid_template_rows": null,
            "right": null,
            "justify_content": null,
            "_view_module": "@jupyter-widgets/base",
            "overflow": null,
            "_model_module_version": "1.2.0",
            "_view_count": null,
            "flex_flow": null,
            "width": null,
            "min_width": null,
            "border": null,
            "align_items": null,
            "bottom": null,
            "_model_module": "@jupyter-widgets/base",
            "top": null,
            "grid_column": null,
            "overflow_y": null,
            "overflow_x": null,
            "grid_auto_flow": null,
            "grid_area": null,
            "grid_template_columns": null,
            "flex": null,
            "_model_name": "LayoutModel",
            "justify_items": null,
            "grid_row": null,
            "max_height": null,
            "align_content": null,
            "visibility": null,
            "align_self": null,
            "height": null,
            "min_height": null,
            "padding": null,
            "grid_auto_rows": null,
            "grid_gap": null,
            "max_width": null,
            "order": null,
            "_view_module_version": "1.2.0",
            "grid_template_areas": null,
            "object_position": null,
            "object_fit": null,
            "grid_auto_columns": null,
            "margin": null,
            "display": null,
            "left": null
          }
        },
        "c1f0d331ee144a8fbc9d59b5fc590b40": {
          "model_module": "@jupyter-widgets/controls",
          "model_name": "FloatProgressModel",
          "state": {
            "_view_name": "ProgressView",
            "style": "IPY_MODEL_563f815a07a548ca8ee550701cf49d3b",
            "_dom_classes": [],
            "description": "",
            "_model_name": "FloatProgressModel",
            "bar_style": "info",
            "max": 1,
            "_view_module": "@jupyter-widgets/controls",
            "_model_module_version": "1.5.0",
            "value": 1,
            "_view_count": null,
            "_view_module_version": "1.5.0",
            "orientation": "horizontal",
            "min": 0,
            "description_tooltip": null,
            "_model_module": "@jupyter-widgets/controls",
            "layout": "IPY_MODEL_68e3cd1414364b94adaa4c86857b4ba3"
          }
        },
        "0936be7633564500bd9c993c90bff398": {
          "model_module": "@jupyter-widgets/controls",
          "model_name": "HTMLModel",
          "state": {
            "_view_name": "HTMLView",
            "style": "IPY_MODEL_67cec64dcff448f6bc51da59add947c4",
            "_dom_classes": [],
            "description": "",
            "_model_name": "HTMLModel",
            "placeholder": "​",
            "_view_module": "@jupyter-widgets/controls",
            "_model_module_version": "1.5.0",
            "value": " 1654784/? [00:12&lt;00:00, 541165.89it/s]",
            "_view_count": null,
            "_view_module_version": "1.5.0",
            "description_tooltip": null,
            "_model_module": "@jupyter-widgets/controls",
            "layout": "IPY_MODEL_265235e2dbad41f69950cf1a73464c9f"
          }
        },
        "563f815a07a548ca8ee550701cf49d3b": {
          "model_module": "@jupyter-widgets/controls",
          "model_name": "ProgressStyleModel",
          "state": {
            "_view_name": "StyleView",
            "_model_name": "ProgressStyleModel",
            "description_width": "initial",
            "_view_module": "@jupyter-widgets/base",
            "_model_module_version": "1.5.0",
            "_view_count": null,
            "_view_module_version": "1.2.0",
            "bar_color": null,
            "_model_module": "@jupyter-widgets/controls"
          }
        },
        "68e3cd1414364b94adaa4c86857b4ba3": {
          "model_module": "@jupyter-widgets/base",
          "model_name": "LayoutModel",
          "state": {
            "_view_name": "LayoutView",
            "grid_template_rows": null,
            "right": null,
            "justify_content": null,
            "_view_module": "@jupyter-widgets/base",
            "overflow": null,
            "_model_module_version": "1.2.0",
            "_view_count": null,
            "flex_flow": null,
            "width": null,
            "min_width": null,
            "border": null,
            "align_items": null,
            "bottom": null,
            "_model_module": "@jupyter-widgets/base",
            "top": null,
            "grid_column": null,
            "overflow_y": null,
            "overflow_x": null,
            "grid_auto_flow": null,
            "grid_area": null,
            "grid_template_columns": null,
            "flex": null,
            "_model_name": "LayoutModel",
            "justify_items": null,
            "grid_row": null,
            "max_height": null,
            "align_content": null,
            "visibility": null,
            "align_self": null,
            "height": null,
            "min_height": null,
            "padding": null,
            "grid_auto_rows": null,
            "grid_gap": null,
            "max_width": null,
            "order": null,
            "_view_module_version": "1.2.0",
            "grid_template_areas": null,
            "object_position": null,
            "object_fit": null,
            "grid_auto_columns": null,
            "margin": null,
            "display": null,
            "left": null
          }
        },
        "67cec64dcff448f6bc51da59add947c4": {
          "model_module": "@jupyter-widgets/controls",
          "model_name": "DescriptionStyleModel",
          "state": {
            "_view_name": "StyleView",
            "_model_name": "DescriptionStyleModel",
            "description_width": "",
            "_view_module": "@jupyter-widgets/base",
            "_model_module_version": "1.5.0",
            "_view_count": null,
            "_view_module_version": "1.2.0",
            "_model_module": "@jupyter-widgets/controls"
          }
        },
        "265235e2dbad41f69950cf1a73464c9f": {
          "model_module": "@jupyter-widgets/base",
          "model_name": "LayoutModel",
          "state": {
            "_view_name": "LayoutView",
            "grid_template_rows": null,
            "right": null,
            "justify_content": null,
            "_view_module": "@jupyter-widgets/base",
            "overflow": null,
            "_model_module_version": "1.2.0",
            "_view_count": null,
            "flex_flow": null,
            "width": null,
            "min_width": null,
            "border": null,
            "align_items": null,
            "bottom": null,
            "_model_module": "@jupyter-widgets/base",
            "top": null,
            "grid_column": null,
            "overflow_y": null,
            "overflow_x": null,
            "grid_auto_flow": null,
            "grid_area": null,
            "grid_template_columns": null,
            "flex": null,
            "_model_name": "LayoutModel",
            "justify_items": null,
            "grid_row": null,
            "max_height": null,
            "align_content": null,
            "visibility": null,
            "align_self": null,
            "height": null,
            "min_height": null,
            "padding": null,
            "grid_auto_rows": null,
            "grid_gap": null,
            "max_width": null,
            "order": null,
            "_view_module_version": "1.2.0",
            "grid_template_areas": null,
            "object_position": null,
            "object_fit": null,
            "grid_auto_columns": null,
            "margin": null,
            "display": null,
            "left": null
          }
        },
        "71e6925182f24ed99c3450c119245160": {
          "model_module": "@jupyter-widgets/controls",
          "model_name": "HBoxModel",
          "state": {
            "_view_name": "HBoxView",
            "_dom_classes": [],
            "_model_name": "HBoxModel",
            "_view_module": "@jupyter-widgets/controls",
            "_model_module_version": "1.5.0",
            "_view_count": null,
            "_view_module_version": "1.5.0",
            "box_style": "",
            "layout": "IPY_MODEL_fd991a1877544e2fa61d58c67ae00128",
            "_model_module": "@jupyter-widgets/controls",
            "children": [
              "IPY_MODEL_3baa72944a1249f2844c2007f8a19be6",
              "IPY_MODEL_25f8c613c16e44279e9af47b4af1d27f"
            ]
          }
        },
        "fd991a1877544e2fa61d58c67ae00128": {
          "model_module": "@jupyter-widgets/base",
          "model_name": "LayoutModel",
          "state": {
            "_view_name": "LayoutView",
            "grid_template_rows": null,
            "right": null,
            "justify_content": null,
            "_view_module": "@jupyter-widgets/base",
            "overflow": null,
            "_model_module_version": "1.2.0",
            "_view_count": null,
            "flex_flow": null,
            "width": null,
            "min_width": null,
            "border": null,
            "align_items": null,
            "bottom": null,
            "_model_module": "@jupyter-widgets/base",
            "top": null,
            "grid_column": null,
            "overflow_y": null,
            "overflow_x": null,
            "grid_auto_flow": null,
            "grid_area": null,
            "grid_template_columns": null,
            "flex": null,
            "_model_name": "LayoutModel",
            "justify_items": null,
            "grid_row": null,
            "max_height": null,
            "align_content": null,
            "visibility": null,
            "align_self": null,
            "height": null,
            "min_height": null,
            "padding": null,
            "grid_auto_rows": null,
            "grid_gap": null,
            "max_width": null,
            "order": null,
            "_view_module_version": "1.2.0",
            "grid_template_areas": null,
            "object_position": null,
            "object_fit": null,
            "grid_auto_columns": null,
            "margin": null,
            "display": null,
            "left": null
          }
        },
        "3baa72944a1249f2844c2007f8a19be6": {
          "model_module": "@jupyter-widgets/controls",
          "model_name": "FloatProgressModel",
          "state": {
            "_view_name": "ProgressView",
            "style": "IPY_MODEL_9594bd83172f45f6a10130c24ca1a63e",
            "_dom_classes": [],
            "description": "  0%",
            "_model_name": "FloatProgressModel",
            "bar_style": "info",
            "max": 1,
            "_view_module": "@jupyter-widgets/controls",
            "_model_module_version": "1.5.0",
            "value": 0,
            "_view_count": null,
            "_view_module_version": "1.5.0",
            "orientation": "horizontal",
            "min": 0,
            "description_tooltip": null,
            "_model_module": "@jupyter-widgets/controls",
            "layout": "IPY_MODEL_c6fbc6e0ad3a4a08afd18582dada8ebd"
          }
        },
        "25f8c613c16e44279e9af47b4af1d27f": {
          "model_module": "@jupyter-widgets/controls",
          "model_name": "HTMLModel",
          "state": {
            "_view_name": "HTMLView",
            "style": "IPY_MODEL_664e6c3671e84ab0a4e1af73aa4d2554",
            "_dom_classes": [],
            "description": "",
            "_model_name": "HTMLModel",
            "placeholder": "​",
            "_view_module": "@jupyter-widgets/controls",
            "_model_module_version": "1.5.0",
            "value": " 0/4542 [00:00&lt;?, ?it/s]",
            "_view_count": null,
            "_view_module_version": "1.5.0",
            "description_tooltip": null,
            "_model_module": "@jupyter-widgets/controls",
            "layout": "IPY_MODEL_22658d32b68a45ce87135cb92f19ecd2"
          }
        },
        "9594bd83172f45f6a10130c24ca1a63e": {
          "model_module": "@jupyter-widgets/controls",
          "model_name": "ProgressStyleModel",
          "state": {
            "_view_name": "StyleView",
            "_model_name": "ProgressStyleModel",
            "description_width": "initial",
            "_view_module": "@jupyter-widgets/base",
            "_model_module_version": "1.5.0",
            "_view_count": null,
            "_view_module_version": "1.2.0",
            "bar_color": null,
            "_model_module": "@jupyter-widgets/controls"
          }
        },
        "c6fbc6e0ad3a4a08afd18582dada8ebd": {
          "model_module": "@jupyter-widgets/base",
          "model_name": "LayoutModel",
          "state": {
            "_view_name": "LayoutView",
            "grid_template_rows": null,
            "right": null,
            "justify_content": null,
            "_view_module": "@jupyter-widgets/base",
            "overflow": null,
            "_model_module_version": "1.2.0",
            "_view_count": null,
            "flex_flow": null,
            "width": null,
            "min_width": null,
            "border": null,
            "align_items": null,
            "bottom": null,
            "_model_module": "@jupyter-widgets/base",
            "top": null,
            "grid_column": null,
            "overflow_y": null,
            "overflow_x": null,
            "grid_auto_flow": null,
            "grid_area": null,
            "grid_template_columns": null,
            "flex": null,
            "_model_name": "LayoutModel",
            "justify_items": null,
            "grid_row": null,
            "max_height": null,
            "align_content": null,
            "visibility": null,
            "align_self": null,
            "height": null,
            "min_height": null,
            "padding": null,
            "grid_auto_rows": null,
            "grid_gap": null,
            "max_width": null,
            "order": null,
            "_view_module_version": "1.2.0",
            "grid_template_areas": null,
            "object_position": null,
            "object_fit": null,
            "grid_auto_columns": null,
            "margin": null,
            "display": null,
            "left": null
          }
        },
        "664e6c3671e84ab0a4e1af73aa4d2554": {
          "model_module": "@jupyter-widgets/controls",
          "model_name": "DescriptionStyleModel",
          "state": {
            "_view_name": "StyleView",
            "_model_name": "DescriptionStyleModel",
            "description_width": "",
            "_view_module": "@jupyter-widgets/base",
            "_model_module_version": "1.5.0",
            "_view_count": null,
            "_view_module_version": "1.2.0",
            "_model_module": "@jupyter-widgets/controls"
          }
        },
        "22658d32b68a45ce87135cb92f19ecd2": {
          "model_module": "@jupyter-widgets/base",
          "model_name": "LayoutModel",
          "state": {
            "_view_name": "LayoutView",
            "grid_template_rows": null,
            "right": null,
            "justify_content": null,
            "_view_module": "@jupyter-widgets/base",
            "overflow": null,
            "_model_module_version": "1.2.0",
            "_view_count": null,
            "flex_flow": null,
            "width": null,
            "min_width": null,
            "border": null,
            "align_items": null,
            "bottom": null,
            "_model_module": "@jupyter-widgets/base",
            "top": null,
            "grid_column": null,
            "overflow_y": null,
            "overflow_x": null,
            "grid_auto_flow": null,
            "grid_area": null,
            "grid_template_columns": null,
            "flex": null,
            "_model_name": "LayoutModel",
            "justify_items": null,
            "grid_row": null,
            "max_height": null,
            "align_content": null,
            "visibility": null,
            "align_self": null,
            "height": null,
            "min_height": null,
            "padding": null,
            "grid_auto_rows": null,
            "grid_gap": null,
            "max_width": null,
            "order": null,
            "_view_module_version": "1.2.0",
            "grid_template_areas": null,
            "object_position": null,
            "object_fit": null,
            "grid_auto_columns": null,
            "margin": null,
            "display": null,
            "left": null
          }
        }
      }
    }
  },
  "cells": [
    {
      "cell_type": "markdown",
      "metadata": {
        "id": "iOykFZqTK3Yl"
      },
      "source": [
        "# L2 – Multilayer perceptron\n",
        "\n",
        "### Pytorch\n",
        "1. [Installing](https://pytorch.org/get-started/locally/)\n",
        "2. [Basics](https://pytorch.org/tutorials/beginner/deep_learning_60min_blitz.html)\n",
        "3. [Mnist and more](https://pytorch.org/tutorials/beginner/nn_tutorial.html)\n",
        "5. [Visualization](https://pytorch.org/tutorials/intermediate/tensorboard_tutorial.html)\n",
        "\n",
        "### One more thing\n",
        "1. [Plot.ly](https://plot.ly/python/)\n",
        "2. [Widgets](http://jupyter.org/widgets.html)"
      ]
    },
    {
      "cell_type": "code",
      "metadata": {
        "id": "dJ2sTP_WMgRJ"
      },
      "source": [
        "import numpy as np\n",
        "import scipy\n",
        "import matplotlib.pyplot as plt\n",
        "from sklearn.tree import DecisionTreeClassifier\n",
        "from matplotlib.colors import Colormap, ListedColormap\n",
        "import pandas as pd\n",
        "from sklearn.linear_model import LogisticRegression\n",
        "from sklearn.linear_model import LinearRegression\n",
        "from sklearn.metrics import mean_squared_error\n",
        "from sklearn.linear_model import SGDClassifier\n",
        "import time\n",
        "from mpl_toolkits.mplot3d import Axes3D\n",
        "from matplotlib.colors import LinearSegmentedColormap\n",
        "from matplotlib import pylab\n",
        "from matplotlib import cm\n",
        "from sklearn.model_selection import train_test_split\n",
        "from keras.datasets import mnist\n",
        "import torch\n",
        "import torchvision\n",
        "from time import time\n",
        "from torchvision import datasets, transforms\n",
        "from torch import nn, optim\n",
        "from torch.nn import functional as F\n",
        "from torch.autograd import Variable\n",
        "\n",
        "import seaborn as sns\n",
        "sns.set(style=\"darkgrid\")\n",
        " \n",
        "%matplotlib inline"
      ],
      "execution_count": null,
      "outputs": []
    },
    {
      "cell_type": "code",
      "metadata": {
        "colab": {
          "base_uri": "https://localhost:8080/",
          "height": 514
        },
        "id": "kU9SVYoiLJ9B",
        "outputId": "3b0f3a78-5e0f-4b4c-b676-711daddb77dc"
      },
      "source": [
        "pip install torch===1.7.0 torchvision===0.8.1 torchaudio===0.7.0 -f https://download.pytorch.org/whl/torch_stable.html"
      ],
      "execution_count": null,
      "outputs": [
        {
          "output_type": "stream",
          "text": [
            "Looking in links: https://download.pytorch.org/whl/torch_stable.html\n",
            "Collecting torch===1.7.0\n",
            "\u001b[?25l  Downloading https://files.pythonhosted.org/packages/80/2a/58f8078744e0408619c63148f7a2e8e48cf007e4146b74d4bb67c56d161b/torch-1.7.0-cp36-cp36m-manylinux1_x86_64.whl (776.7MB)\n",
            "\u001b[K     |████████████████████████████████| 776.7MB 23kB/s \n",
            "\u001b[?25hCollecting torchvision===0.8.1\n",
            "\u001b[?25l  Downloading https://files.pythonhosted.org/packages/e7/43/aaa740c406b1832adc6ff9d5e71c23fd2af2ebd436c42d76d85809ec8be9/torchvision-0.8.1-cp36-cp36m-manylinux1_x86_64.whl (12.8MB)\n",
            "\u001b[K     |████████████████████████████████| 12.8MB 32.8MB/s \n",
            "\u001b[?25hCollecting torchaudio===0.7.0\n",
            "\u001b[?25l  Downloading https://files.pythonhosted.org/packages/3f/23/6b54106b3de029d3f10cf8debc302491c17630357449c900d6209665b302/torchaudio-0.7.0-cp36-cp36m-manylinux1_x86_64.whl (7.6MB)\n",
            "\u001b[K     |████████████████████████████████| 7.6MB 43.8MB/s \n",
            "\u001b[?25hRequirement already satisfied: future in /usr/local/lib/python3.6/dist-packages (from torch===1.7.0) (0.16.0)\n",
            "Requirement already satisfied: dataclasses in /usr/local/lib/python3.6/dist-packages (from torch===1.7.0) (0.8)\n",
            "Requirement already satisfied: numpy in /usr/local/lib/python3.6/dist-packages (from torch===1.7.0) (1.19.4)\n",
            "Requirement already satisfied: typing-extensions in /usr/local/lib/python3.6/dist-packages (from torch===1.7.0) (3.7.4.3)\n",
            "Requirement already satisfied: pillow>=4.1.1 in /usr/local/lib/python3.6/dist-packages (from torchvision===0.8.1) (7.0.0)\n",
            "Installing collected packages: torch, torchvision, torchaudio\n",
            "  Found existing installation: torch 1.7.0+cu101\n",
            "    Uninstalling torch-1.7.0+cu101:\n",
            "      Successfully uninstalled torch-1.7.0+cu101\n",
            "  Found existing installation: torchvision 0.8.1+cu101\n",
            "    Uninstalling torchvision-0.8.1+cu101:\n",
            "      Successfully uninstalled torchvision-0.8.1+cu101\n",
            "Successfully installed torch-1.7.0 torchaudio-0.7.0 torchvision-0.8.1\n"
          ],
          "name": "stdout"
        },
        {
          "output_type": "display_data",
          "data": {
            "application/vnd.colab-display-data+json": {
              "pip_warning": {
                "packages": [
                  "torch",
                  "torchvision"
                ]
              }
            }
          },
          "metadata": {
            "tags": []
          }
        }
      ]
    },
    {
      "cell_type": "markdown",
      "metadata": {
        "id": "uylP5lXkK3Ym"
      },
      "source": [
        "### 1. Linear multi-classification problem\n",
        "\n",
        "We have already learned binary linear classifier\n",
        "$$y = \\text{sign}(w^Tx).$$\n",
        "There are [several approaches](https://en.wikipedia.org/wiki/Multiclass_classification) to solve the problem of multi-class classification. For example [reduction](https://en.wikipedia.org/wiki/Multiclass_classification#Transformation_to_Binary) of problem to binary classifier or [modification](https://en.wikipedia.org/wiki/Support_vector_machine#Multiclass_SVM) of the known model. However we are interested in approaches that is applied in neural networks.\n",
        "\n",
        "For each class $c \\in 1, \\dots, |C|$ we have an individual row $w_i$ of matrix $W$. Then the probability of $x$ belonging to a particular class is equal to\n",
        "$$p_i = \\frac{\\exp(w^T_ix)}{\\sum_j \\exp(w^T_jx)}.$$\n",
        "This is nothing, but [softmax](https://en.wikipedia.org/wiki/Softmax_function) function of $Wx$.\n",
        "$$(p_1, \\dots, p_{|C|}) = \\text{softmax}(Wx).$$\n",
        "\n",
        "If you look closely, $\\text{softmax}$ is a more general variant of sigmoid. To see this, it suffices to consider the case $|C|=2$. As usual the training can be reduced to minimization of the empirical risk, namely, optimization problem\n",
        "$$\\arg\\min_W Q(W) = \\arg\\min_W -\\frac{1}{\\mathcal{l}}\\sum_y\\sum_i [y = i] \\cdot \\ln(p_i(W)).$$\n",
        "Actually, the maximization of the log-likelihood is written above.\n",
        "\n",
        "#### Exercises\n",
        "1. Find $\\frac{dQ}{dW}$ in matrix form (hint: start with $\\frac{dQ}{dw_i}$ for begining).\n",
        "2. Please plot several mnist images (e.g using grid 5x5).\n",
        "3. Train linear multi-label classifier for mnist dataset with Pytorch.\n",
        "4. Chek accuracy on train and validation sets.\n",
        "5. Use a local TensorBoard to visualize resulted graph (no need to include in lab)."
      ]
    },
    {
      "cell_type": "code",
      "metadata": {
        "id": "gdYeFsFxMDhu"
      },
      "source": [
        "transform = transforms.Compose([transforms.ToTensor(),\n",
        "                              transforms.Normalize((0.5,), (0.5,)),\n",
        "                              ])"
      ],
      "execution_count": null,
      "outputs": []
    },
    {
      "cell_type": "code",
      "metadata": {
        "id": "mPw9bCNLWNfq",
        "colab": {
          "base_uri": "https://localhost:8080/",
          "height": 755,
          "referenced_widgets": [
            "8198b2a9eb454366a8615b5460579b97",
            "97f5bedd40ce4eae8f5c7dccb95f9ab7",
            "3f6007b5468c4a6a98fca1b28c237827",
            "b9fbe6c0d3ae4802b36418f5c9180190",
            "b3510fde167d4806a7d29b0d3aaadb34",
            "459b21f9bbef4f22aa5ec5a1a00cdcc7",
            "38a3f900bc544412aefd4327da0185ed",
            "656b9103f90947d3b3c24cbedd3c31d1",
            "511555598afb43238f9dbf8a4b9d994b",
            "ae23dd6f91df4b349d39e75054d84725",
            "b372e2b891084c84bc182ab877fd7578",
            "65a198097a9c4d5ab1a8d6a61e3900e3",
            "7bd438530cff4e25ab7be1bf3a13d41c",
            "2da2b4ccf23e467d977af826c25188be",
            "4c00b22cc6c648efac67360a277b39c9",
            "10deab7797814e07bbef659250ff9fea",
            "2e0f1bc901a34f9ea61620b8f03583af",
            "b2b9bc62f1a842cdb94cd3ea5b963c4b",
            "b79e9b43ac0e4865b5b83672ef205ed4",
            "772ba14a6dc64105affbe55bdc18408e",
            "8f784a9b92a34060866c083da06a9371",
            "4c3375a11c9341659446039704d5a713",
            "5b227ff420bd49388cffc26e3773c8a5",
            "b9f1617317ac4b8da7cfeb1c11366f6a",
            "ce691e120cfa484f88d073838ca1cdbd",
            "5178e0f37c894f8bbc1f0768f61244f9",
            "78af77ce2fb44b4f90c89aee10d2e79f",
            "ca2890d8b8bf4f9fa5f3a8f75f7558a2",
            "b0e4cd70b9094823bcc1fc460e27ca9e",
            "cba78f97756148178c2859512ba8fb84",
            "b6cd0fca095d49b7a550af1e4e6b9f89",
            "6eeba739513a46fd817516bb38ab1d70",
            "4bc0eb0f483749e6b2a0808668ac9af9",
            "be13a5eff50b4d5b880ac5f57044d192",
            "5ec6731c2c18404eaf1f0d5025623219",
            "e1f0c6d3ae1d4703a46f8a25a598c9fa",
            "73aceeac0f39418090a38563a51ce176",
            "51639889afcc4eae8a96e4a1678df524",
            "92a5d2da444842fabff7419efebace7e",
            "30f47760b67c41a6a923d29014ef442e",
            "c98ed6c191144a5498fbee6c027ebef9",
            "dc96a121c96d4e4b842119e07b4dc8de",
            "ca10530537ac4179a6ebd058af721e79",
            "386d5e67cb734b7895875f41a4d5faf6",
            "316e6b04c1f541829691f10247e1c2aa",
            "612538bb2a884a2da615e3d56742e10c",
            "3be45e2eed5d41e58c944b742e2ae6c7",
            "fc2681751f594be881cfac1ff4e9c549",
            "10c1be5ca21d4f9595fbc2057e5a52cb",
            "41a57117bd6c4c63bb658e76820a7278",
            "c1f0d331ee144a8fbc9d59b5fc590b40",
            "0936be7633564500bd9c993c90bff398",
            "563f815a07a548ca8ee550701cf49d3b",
            "68e3cd1414364b94adaa4c86857b4ba3",
            "67cec64dcff448f6bc51da59add947c4",
            "265235e2dbad41f69950cf1a73464c9f",
            "71e6925182f24ed99c3450c119245160",
            "fd991a1877544e2fa61d58c67ae00128",
            "3baa72944a1249f2844c2007f8a19be6",
            "25f8c613c16e44279e9af47b4af1d27f",
            "9594bd83172f45f6a10130c24ca1a63e",
            "c6fbc6e0ad3a4a08afd18582dada8ebd",
            "664e6c3671e84ab0a4e1af73aa4d2554",
            "22658d32b68a45ce87135cb92f19ecd2"
          ]
        },
        "outputId": "c21f4ead-c7e5-4094-b73b-3ccdd1dee53c"
      },
      "source": [
        "trainset = datasets.MNIST('PATH_TO_STORE_TRAINSET', download=True, train=True, transform=transform)\n",
        "valset = datasets.MNIST('PATH_TO_STORE_TESTSET', download=True, train=False, transform=transform)\n",
        "trainloader = torch.utils.data.DataLoader(trainset, batch_size=64, shuffle=True)\n",
        "valloader = torch.utils.data.DataLoader(valset, batch_size=64, shuffle=True)"
      ],
      "execution_count": null,
      "outputs": [
        {
          "output_type": "stream",
          "text": [
            "Downloading http://yann.lecun.com/exdb/mnist/train-images-idx3-ubyte.gz to PATH_TO_STORE_TRAINSET/MNIST/raw/train-images-idx3-ubyte.gz\n"
          ],
          "name": "stdout"
        },
        {
          "output_type": "display_data",
          "data": {
            "application/vnd.jupyter.widget-view+json": {
              "model_id": "8198b2a9eb454366a8615b5460579b97",
              "version_minor": 0,
              "version_major": 2
            },
            "text/plain": [
              "HBox(children=(FloatProgress(value=1.0, bar_style='info', max=1.0), HTML(value='')))"
            ]
          },
          "metadata": {
            "tags": []
          }
        },
        {
          "output_type": "stream",
          "text": [
            "Extracting PATH_TO_STORE_TRAINSET/MNIST/raw/train-images-idx3-ubyte.gz to PATH_TO_STORE_TRAINSET/MNIST/raw\n",
            "Downloading http://yann.lecun.com/exdb/mnist/train-labels-idx1-ubyte.gz to PATH_TO_STORE_TRAINSET/MNIST/raw/train-labels-idx1-ubyte.gz\n",
            "\n"
          ],
          "name": "stdout"
        },
        {
          "output_type": "display_data",
          "data": {
            "application/vnd.jupyter.widget-view+json": {
              "model_id": "511555598afb43238f9dbf8a4b9d994b",
              "version_minor": 0,
              "version_major": 2
            },
            "text/plain": [
              "HBox(children=(FloatProgress(value=1.0, bar_style='info', max=1.0), HTML(value='')))"
            ]
          },
          "metadata": {
            "tags": []
          }
        },
        {
          "output_type": "stream",
          "text": [
            "Extracting PATH_TO_STORE_TRAINSET/MNIST/raw/train-labels-idx1-ubyte.gz to PATH_TO_STORE_TRAINSET/MNIST/raw\n",
            "Downloading http://yann.lecun.com/exdb/mnist/t10k-images-idx3-ubyte.gz to PATH_TO_STORE_TRAINSET/MNIST/raw/t10k-images-idx3-ubyte.gz\n"
          ],
          "name": "stdout"
        },
        {
          "output_type": "display_data",
          "data": {
            "application/vnd.jupyter.widget-view+json": {
              "model_id": "2e0f1bc901a34f9ea61620b8f03583af",
              "version_minor": 0,
              "version_major": 2
            },
            "text/plain": [
              "HBox(children=(FloatProgress(value=1.0, bar_style='info', max=1.0), HTML(value='')))"
            ]
          },
          "metadata": {
            "tags": []
          }
        },
        {
          "output_type": "stream",
          "text": [
            "Extracting PATH_TO_STORE_TRAINSET/MNIST/raw/t10k-images-idx3-ubyte.gz to PATH_TO_STORE_TRAINSET/MNIST/raw\n",
            "Downloading http://yann.lecun.com/exdb/mnist/t10k-labels-idx1-ubyte.gz to PATH_TO_STORE_TRAINSET/MNIST/raw/t10k-labels-idx1-ubyte.gz\n"
          ],
          "name": "stdout"
        },
        {
          "output_type": "display_data",
          "data": {
            "application/vnd.jupyter.widget-view+json": {
              "model_id": "ce691e120cfa484f88d073838ca1cdbd",
              "version_minor": 0,
              "version_major": 2
            },
            "text/plain": [
              "HBox(children=(FloatProgress(value=1.0, bar_style='info', max=1.0), HTML(value='')))"
            ]
          },
          "metadata": {
            "tags": []
          }
        },
        {
          "output_type": "stream",
          "text": [
            "Extracting PATH_TO_STORE_TRAINSET/MNIST/raw/t10k-labels-idx1-ubyte.gz to PATH_TO_STORE_TRAINSET/MNIST/raw\n",
            "Processing...\n",
            "Done!\n",
            "Downloading http://yann.lecun.com/exdb/mnist/train-images-idx3-ubyte.gz to PATH_TO_STORE_TESTSET/MNIST/raw/train-images-idx3-ubyte.gz\n"
          ],
          "name": "stdout"
        },
        {
          "output_type": "stream",
          "text": [
            "/usr/local/lib/python3.6/dist-packages/torchvision/datasets/mnist.py:480: UserWarning: The given NumPy array is not writeable, and PyTorch does not support non-writeable tensors. This means you can write to the underlying (supposedly non-writeable) NumPy array using the tensor. You may want to copy the array to protect its data or make it writeable before converting it to a tensor. This type of warning will be suppressed for the rest of this program. (Triggered internally at  /pytorch/torch/csrc/utils/tensor_numpy.cpp:141.)\n",
            "  return torch.from_numpy(parsed.astype(m[2], copy=False)).view(*s)\n"
          ],
          "name": "stderr"
        },
        {
          "output_type": "display_data",
          "data": {
            "application/vnd.jupyter.widget-view+json": {
              "model_id": "4bc0eb0f483749e6b2a0808668ac9af9",
              "version_minor": 0,
              "version_major": 2
            },
            "text/plain": [
              "HBox(children=(FloatProgress(value=1.0, bar_style='info', max=1.0), HTML(value='')))"
            ]
          },
          "metadata": {
            "tags": []
          }
        },
        {
          "output_type": "stream",
          "text": [
            "Extracting PATH_TO_STORE_TESTSET/MNIST/raw/train-images-idx3-ubyte.gz to PATH_TO_STORE_TESTSET/MNIST/raw\n",
            "Downloading http://yann.lecun.com/exdb/mnist/train-labels-idx1-ubyte.gz to PATH_TO_STORE_TESTSET/MNIST/raw/train-labels-idx1-ubyte.gz\n",
            "\n",
            "\n",
            "\n"
          ],
          "name": "stdout"
        },
        {
          "output_type": "display_data",
          "data": {
            "application/vnd.jupyter.widget-view+json": {
              "model_id": "c98ed6c191144a5498fbee6c027ebef9",
              "version_minor": 0,
              "version_major": 2
            },
            "text/plain": [
              "HBox(children=(FloatProgress(value=1.0, bar_style='info', max=1.0), HTML(value='')))"
            ]
          },
          "metadata": {
            "tags": []
          }
        },
        {
          "output_type": "stream",
          "text": [
            "Extracting PATH_TO_STORE_TESTSET/MNIST/raw/train-labels-idx1-ubyte.gz to PATH_TO_STORE_TESTSET/MNIST/raw\n",
            "Downloading http://yann.lecun.com/exdb/mnist/t10k-images-idx3-ubyte.gz to PATH_TO_STORE_TESTSET/MNIST/raw/t10k-images-idx3-ubyte.gz\n"
          ],
          "name": "stdout"
        },
        {
          "output_type": "display_data",
          "data": {
            "application/vnd.jupyter.widget-view+json": {
              "model_id": "10c1be5ca21d4f9595fbc2057e5a52cb",
              "version_minor": 0,
              "version_major": 2
            },
            "text/plain": [
              "HBox(children=(FloatProgress(value=1.0, bar_style='info', max=1.0), HTML(value='')))"
            ]
          },
          "metadata": {
            "tags": []
          }
        },
        {
          "output_type": "stream",
          "text": [
            "Extracting PATH_TO_STORE_TESTSET/MNIST/raw/t10k-images-idx3-ubyte.gz to PATH_TO_STORE_TESTSET/MNIST/raw\n",
            "Downloading http://yann.lecun.com/exdb/mnist/t10k-labels-idx1-ubyte.gz to PATH_TO_STORE_TESTSET/MNIST/raw/t10k-labels-idx1-ubyte.gz\n"
          ],
          "name": "stdout"
        },
        {
          "output_type": "display_data",
          "data": {
            "application/vnd.jupyter.widget-view+json": {
              "model_id": "71e6925182f24ed99c3450c119245160",
              "version_minor": 0,
              "version_major": 2
            },
            "text/plain": [
              "HBox(children=(FloatProgress(value=1.0, bar_style='info', max=1.0), HTML(value='')))"
            ]
          },
          "metadata": {
            "tags": []
          }
        },
        {
          "output_type": "stream",
          "text": [
            "Extracting PATH_TO_STORE_TESTSET/MNIST/raw/t10k-labels-idx1-ubyte.gz to PATH_TO_STORE_TESTSET/MNIST/raw\n",
            "Processing...\n",
            "Done!\n"
          ],
          "name": "stdout"
        }
      ]
    },
    {
      "cell_type": "code",
      "metadata": {
        "colab": {
          "base_uri": "https://localhost:8080/"
        },
        "id": "KxYAnLRo8Twf",
        "outputId": "b2b51eab-0626-426b-ad53-545eaa0a8cab"
      },
      "source": [
        "images, labels = next(iter(trainloader))\r\n",
        "images.shape"
      ],
      "execution_count": null,
      "outputs": [
        {
          "output_type": "execute_result",
          "data": {
            "text/plain": [
              "torch.Size([64, 1, 28, 28])"
            ]
          },
          "metadata": {
            "tags": []
          },
          "execution_count": 13
        }
      ]
    },
    {
      "cell_type": "code",
      "metadata": {
        "colab": {
          "base_uri": "https://localhost:8080/"
        },
        "id": "IIHoV-CK8T4m",
        "outputId": "b236cffe-6d44-48d9-ad07-4802717bb666"
      },
      "source": [
        "labels"
      ],
      "execution_count": null,
      "outputs": [
        {
          "output_type": "execute_result",
          "data": {
            "text/plain": [
              "tensor([3, 6, 9, 3, 7, 7, 2, 0, 8, 2, 5, 7, 1, 2, 3, 9, 7, 4, 6, 3, 0, 2, 0, 4,\n",
              "        4, 3, 7, 0, 4, 1, 5, 5, 0, 8, 6, 8, 6, 2, 2, 7, 8, 1, 4, 7, 7, 5, 7, 0,\n",
              "        5, 1, 6, 0, 3, 1, 4, 9, 7, 7, 8, 0, 9, 7, 7, 6])"
            ]
          },
          "metadata": {
            "tags": []
          },
          "execution_count": 12
        }
      ]
    },
    {
      "cell_type": "code",
      "metadata": {
        "colab": {
          "base_uri": "https://localhost:8080/",
          "height": 687
        },
        "id": "WIJK279rWNn8",
        "outputId": "57214dcd-616b-4970-e346-e16d11de87f3"
      },
      "source": [
        "plt.figure(figsize=(20, 60))\n",
        "images, labels = next(iter(trainloader))\n",
        "\n",
        "plt.title('Визуализация нескольких цифр из MNIST')\n",
        "sp = 1\n",
        "for i in range(25):  \n",
        "    plt.subplot(25, 5, sp)\n",
        "    plt.imshow(images[i].numpy().squeeze(), cmap=plt.get_cmap('gray'))\n",
        "    sp += 1\n",
        "\n",
        "plt.show()"
      ],
      "execution_count": null,
      "outputs": [
        {
          "output_type": "display_data",
          "data": {
            "image/png": "[encoded data removed]",
            "text/plain": [
              "<Figure size 1440x4320 with 25 Axes>"
            ]
          },
          "metadata": {
            "tags": []
          }
        }
      ]
    },
    {
      "cell_type": "code",
      "metadata": {
        "colab": {
          "base_uri": "https://localhost:8080/"
        },
        "id": "avU6cxCwWNqe",
        "outputId": "08ddf8b6-7e68-4dfe-ef4a-5cb7825fae82"
      },
      "source": [
        "input_size = 784\n",
        "hidden_sizes = [128, 64]\n",
        "output_size = 10\n",
        "\n",
        "model = nn.Sequential(nn.Linear(input_size, output_size),\n",
        "                      nn.Softmax(dim=1))\n",
        "print(model)"
      ],
      "execution_count": null,
      "outputs": [
        {
          "output_type": "stream",
          "text": [
            "Sequential(\n",
            "  (0): Linear(in_features=784, out_features=10, bias=True)\n",
            "  (1): Softmax(dim=1)\n",
            ")\n"
          ],
          "name": "stdout"
        }
      ]
    },
    {
      "cell_type": "code",
      "metadata": {
        "colab": {
          "base_uri": "https://localhost:8080/"
        },
        "id": "drlZfhqpZe1M",
        "outputId": "62af1929-25b9-4caf-b85f-a2acc71d3f2e"
      },
      "source": [
        "optimizer = optim.Adam(model.parameters(), lr=0.001, betas=(0.9, 0.999), eps=1e-08, weight_decay=0, amsgrad=False)\n",
        "time0 = time()\n",
        "epochs = 10\n",
        "for e in range(epochs):\n",
        "    running_loss = 0\n",
        "    for images, labels in trainloader:\n",
        "        images = images.view(images.shape[0], -1)\n",
        "        optimizer.zero_grad()\n",
        "        output = model(images)\n",
        "        loss = nn.NLLLoss()(output, labels)\n",
        "        loss.backward()\n",
        "        optimizer.step()\n",
        "        running_loss += loss.item()\n",
        "\n",
        "print(\"Training Time (in minutes) =\", (time()-time0) / 60)"
      ],
      "execution_count": null,
      "outputs": [
        {
          "output_type": "stream",
          "text": [
            "Training Time (in minutes) = 2.1057281454404193\n"
          ],
          "name": "stdout"
        }
      ]
    },
    {
      "cell_type": "code",
      "metadata": {
        "colab": {
          "base_uri": "https://localhost:8080/"
        },
        "id": "_YnCmkt4eliU",
        "outputId": "1e449f57-0972-468e-bb11-e7c9631ffdd3"
      },
      "source": [
        "correct_count, all_count = 0, 0\n",
        "for images, labels in trainloader:\n",
        "  for i in range(len(labels)):\n",
        "    img = images[i].view(1, 784)\n",
        "    with torch.no_grad():\n",
        "        logps = model(img)\n",
        "    \n",
        "    ps = torch.exp(logps)\n",
        "    probab = list(ps.numpy()[0])\n",
        "    pred_label = probab.index(max(probab))\n",
        "    true_label = labels.numpy()[i]\n",
        "    if(true_label == pred_label):\n",
        "      correct_count += 1\n",
        "    all_count += 1\n",
        "\n",
        "print(\"Accuracy на обучающей выборке = %.4f\" % (correct_count / all_count))"
      ],
      "execution_count": null,
      "outputs": [
        {
          "output_type": "stream",
          "text": [
            "Accuracy на обучающей выборке = 0.9265\n"
          ],
          "name": "stdout"
        }
      ]
    },
    {
      "cell_type": "code",
      "metadata": {
        "colab": {
          "base_uri": "https://localhost:8080/"
        },
        "id": "9eE7yhL7Ze7s",
        "outputId": "988c323a-bee9-4988-9645-d94f24cf4880"
      },
      "source": [
        "correct_count, all_count = 0, 0\n",
        "for images, labels in valloader:\n",
        "  for i in range(len(labels)):\n",
        "    img = images[i].view(1, 784)\n",
        "    with torch.no_grad():\n",
        "        logps = model(img)\n",
        "    \n",
        "    ps = torch.exp(logps)\n",
        "    probab = list(ps.numpy()[0])\n",
        "    pred_label = probab.index(max(probab))\n",
        "    true_label = labels.numpy()[i]\n",
        "    if(true_label == pred_label):\n",
        "      correct_count += 1\n",
        "    all_count += 1\n",
        "\n",
        "print(\"Accuracy на валидационной выборке = %.4f\" % (correct_count / all_count))"
      ],
      "execution_count": null,
      "outputs": [
        {
          "output_type": "stream",
          "text": [
            "Accuracy на валидационной выборке = 0.9220\n"
          ],
          "name": "stdout"
        }
      ]
    },
    {
      "cell_type": "markdown",
      "metadata": {
        "id": "wnsiGE5XK3Ym"
      },
      "source": [
        "Let's briefly touch on themes of regularization. As was discussed before, there are different approaches. We focus on the modification of loss function.\n",
        "\n",
        "$$\\arg\\min_W -\\frac{1}{\\mathcal{l}}\\sum_y\\sum_i [y = i] \\cdot \\ln(p_i(W)) + \\lambda_1 L_1(W) + \\lambda_2 L_2(W)$$\n",
        "\n",
        "1. $L_1(W) = sum_{i,j} |w_{i,j}|$ - sparsify weights (force to not use uncorrelated features)\n",
        "2. $L_2(W) = sum_{i,j} w_{i,j}^2$ - minimize weights (force to not overfit)\n",
        "\n",
        "#### Exercises\n",
        "1. Train model again using both type of regularization.\n",
        "2. Plot matrix of weights.\n",
        "3. Which pixels have zero weights? What does it mean?\n",
        "4. Have you improved accuracy on validation?"
      ]
    },
    {
      "cell_type": "code",
      "metadata": {
        "colab": {
          "base_uri": "https://localhost:8080/"
        },
        "id": "rAKQRsADZfEB",
        "outputId": "534713bd-ffa6-443d-9f77-cf33f1cf9f09"
      },
      "source": [
        "optimizer = optim.Adam(model.parameters(), weight_decay=1e-5)\n",
        "time0 = time()\n",
        "epochs = 10\n",
        "for e in range(epochs):\n",
        "    for images, labels in trainloader:\n",
        "        images = images.view(images.shape[0], -1)\n",
        "        optimizer.zero_grad()\n",
        "        output = model(images)\n",
        "        loss = nn.NLLLoss()(output, labels)\n",
        "        loss.backward()\n",
        "        optimizer.step()\n",
        "\n",
        "print(\"Training Time (in minutes) =\", (time()-time0) / 60)"
      ],
      "execution_count": null,
      "outputs": [
        {
          "output_type": "stream",
          "text": [
            "Training Time (in minutes) = 2.119345450401306\n"
          ],
          "name": "stdout"
        }
      ]
    },
    {
      "cell_type": "code",
      "metadata": {
        "colab": {
          "base_uri": "https://localhost:8080/"
        },
        "id": "ixfVUhqvfW84",
        "outputId": "679e40ac-2b36-447a-d8c6-9cfdfe92e033"
      },
      "source": [
        "correct_count, all_count = 0, 0\n",
        "for images, labels in trainloader:\n",
        "  for i in range(len(labels)):\n",
        "    img = images[i].view(1, 784)\n",
        "    with torch.no_grad():\n",
        "        logps = model(img)\n",
        "    \n",
        "    ps = torch.exp(logps)\n",
        "    probab = list(ps.numpy()[0])\n",
        "    pred_label = probab.index(max(probab))\n",
        "    true_label = labels.numpy()[i]\n",
        "    if(true_label == pred_label):\n",
        "      correct_count += 1\n",
        "    all_count += 1\n",
        "\n",
        "print(\"Accuracy на обучающей выборке с L2 = %.4f\" % (correct_count / all_count))"
      ],
      "execution_count": null,
      "outputs": [
        {
          "output_type": "stream",
          "text": [
            "Accuracy на обучающей выборке с L2 = 0.9346\n"
          ],
          "name": "stdout"
        }
      ]
    },
    {
      "cell_type": "code",
      "metadata": {
        "colab": {
          "base_uri": "https://localhost:8080/"
        },
        "id": "OYQHqDxDfXFR",
        "outputId": "ba4ec253-a37e-44c0-e4f5-2de01b8639cc"
      },
      "source": [
        "correct_count, all_count = 0, 0\n",
        "for images, labels in valloader:\n",
        "  for i in range(len(labels)):\n",
        "    img = images[i].view(1, 784)\n",
        "    with torch.no_grad():\n",
        "        logps = model(img)\n",
        "\n",
        "    ps = torch.exp(logps)\n",
        "    probab = list(ps.numpy()[0])\n",
        "    pred_label = probab.index(max(probab))\n",
        "    true_label = labels.numpy()[i]\n",
        "    if(true_label == pred_label):\n",
        "      correct_count += 1\n",
        "    all_count += 1\n",
        "\n",
        "print(\"Accuracy на валидационной выборке с L2 = %.4f\" % (correct_count / all_count))"
      ],
      "execution_count": null,
      "outputs": [
        {
          "output_type": "stream",
          "text": [
            "Accuracy на валидационной выборке с L2 = 0.9270\n"
          ],
          "name": "stdout"
        }
      ]
    },
    {
      "cell_type": "code",
      "metadata": {
        "colab": {
          "base_uri": "https://localhost:8080/"
        },
        "id": "YGERuY8-1r6v",
        "outputId": "9af5d322-e789-4ef0-e3d4-dcf8e23f2aa0"
      },
      "source": [
        "optimizer = optim.Adam(model.parameters(), lr=0.001, betas=(0.9, 0.999), eps=1e-08, weight_decay=0, amsgrad=False)\n",
        "time0 = time()\n",
        "epochs = 10\n",
        "lamb = 0.5\n",
        "for e in range(epochs):\n",
        "    for images, labels in trainloader:\n",
        "        images = images.view(images.shape[0], -1)\n",
        "        optimizer.zero_grad()\n",
        "        output = model(images)\n",
        "        cross_entropy_loss = F.cross_entropy(output, labels)\n",
        "        all_params = torch.cat([x.view(-1) for x in model.parameters()])\n",
        "        l1_regularization = lamb * torch.norm(all_params, 1)\n",
        "        loss = cross_entropy_loss + l1_regularization\n",
        "        loss.backward()\n",
        "        optimizer.step()\n",
        "\n",
        "print(\"Training Time (in minutes) =\",(time()-time0) / 60)"
      ],
      "execution_count": null,
      "outputs": [
        {
          "output_type": "stream",
          "text": [
            "Training Time (in minutes) = 2.183149190743764\n"
          ],
          "name": "stdout"
        }
      ]
    },
    {
      "cell_type": "code",
      "metadata": {
        "colab": {
          "base_uri": "https://localhost:8080/"
        },
        "id": "kii679ffPjZj",
        "outputId": "4488cc47-50f9-4ea6-d015-5f8d21e293cd"
      },
      "source": [
        "correct_count, all_count = 0, 0\n",
        "for images, labels in trainloader:\n",
        "  for i in range(len(labels)):\n",
        "    img = images[i].view(1, 784)\n",
        "    with torch.no_grad():\n",
        "        logps = model(img)\n",
        "    \n",
        "    ps = torch.exp(logps)\n",
        "    probab = list(ps.numpy()[0])\n",
        "    pred_label = probab.index(max(probab))\n",
        "    true_label = labels.numpy()[i]\n",
        "    if(true_label == pred_label):\n",
        "      correct_count += 1\n",
        "    all_count += 1\n",
        "\n",
        "print(\"Accuracy на обучающей выборке с L1 = %.4f\" % (correct_count / all_count))"
      ],
      "execution_count": null,
      "outputs": [
        {
          "output_type": "stream",
          "text": [
            "Accuracy на обучающей выборке с L1 = 0.1120\n"
          ],
          "name": "stdout"
        }
      ]
    },
    {
      "cell_type": "code",
      "metadata": {
        "colab": {
          "base_uri": "https://localhost:8080/"
        },
        "id": "tXqfgZ6lPkZE",
        "outputId": "01e91ce5-6440-427f-d4d7-d1121ac940f5"
      },
      "source": [
        "correct_count, all_count = 0, 0\n",
        "for images, labels in valloader:\n",
        "  for i in range(len(labels)):\n",
        "    img = images[i].view(1, 784)\n",
        "    with torch.no_grad():\n",
        "        logps = model(img)\n",
        "    #print(len(logps))\n",
        "    \n",
        "    ps = torch.exp(logps)\n",
        "    probab = list(ps.numpy()[0])\n",
        "\n",
        "    #print(probab)\n",
        "    pred_label = probab.index(max(probab))\n",
        "    true_label = labels.numpy()[i]\n",
        "    #print(true_label, pred_label)\n",
        "    if(true_label == pred_label):\n",
        "      correct_count += 1\n",
        "    all_count += 1\n",
        "\n",
        "print(\"Accuracy на валидационной выборке с L1 = %.4f\" % (correct_count / all_count))"
      ],
      "execution_count": null,
      "outputs": [
        {
          "output_type": "stream",
          "text": [
            "Accuracy на валидационной выборке с L1 = 0.1147\n"
          ],
          "name": "stdout"
        }
      ]
    },
    {
      "cell_type": "markdown",
      "metadata": {
        "id": "cSlc0UUrvFVJ"
      },
      "source": [
        "То что пиксели имеют нулевой вес значит то, что произошло затухание градиента и некоторые пиксели \"вымерли\"."
      ]
    },
    {
      "cell_type": "code",
      "metadata": {
        "colab": {
          "base_uri": "https://localhost:8080/"
        },
        "id": "5XT83jPefXNN",
        "outputId": "5b8615f2-a23a-4ab1-e088-f46fe3f88623"
      },
      "source": [
        "model[0].weight.grad"
      ],
      "execution_count": null,
      "outputs": [
        {
          "output_type": "execute_result",
          "data": {
            "text/plain": [
              "tensor([[-0.5037,  0.4963,  0.4963,  ..., -0.5037,  0.4963,  0.4963],\n",
              "        [ 0.4994, -0.5006,  0.4994,  ...,  0.4994,  0.4994, -0.5006],\n",
              "        [-0.4975, -0.4975,  0.5025,  ...,  0.5025,  0.5025,  0.5025],\n",
              "        ...,\n",
              "        [-0.5069,  0.4931, -0.5069,  ..., -0.5069,  0.4931, -0.5069],\n",
              "        [ 0.5056,  0.5056, -0.4944,  ..., -0.4944,  0.5056,  0.5056],\n",
              "        [ 0.5057, -0.4943, -0.4943,  ..., -0.4943, -0.4943,  0.5057]])"
            ]
          },
          "metadata": {
            "tags": []
          },
          "execution_count": 222
        }
      ]
    },
    {
      "cell_type": "markdown",
      "metadata": {
        "id": "Rnvcw5whK3Ym"
      },
      "source": [
        "### 2. Universal approximation theorem\n",
        "\n",
        "What if we add more layers to our model? Namely, we train two matrix $W_2$ and $W_1$\n",
        "$$softmax(W_2\\cdot(W_1x)).$$\n",
        "\n",
        "At first glance adding more parameters helps to increase the generalizing ability of the model. Buy actually we have the same model $softmax(Wx)$, where $W = W_2\\cdot W_1$. But everyting changes with adding ome more layer. Let's add nonlinear function $\\sigma$ between $W_2$ and $W_1$\n",
        "\n",
        "$$softmax(W_2\\cdot \\sigma(W_1x)).$$\n",
        "\n",
        "Kurt Hornik showed in 1991 that it is not the specific choice of the nonlinear function, but rather the multilayer feedforward architecture itself which gives neural networks the potential of being universal approximators. The output units are always assumed to be linear. For notational convenience, only the single output case will be shown. The general case can easily be deduced from the single output case.\n",
        "\n",
        "Let $\\sigma(\\cdot)$ be a nonconstant, bounded, and monotonically-increasing continuous function.\n",
        "Let $\\mathcal{S}_m \\subset \\mathbb{R}^m$ denote any compact set. \n",
        "Then, given any $\\varepsilon > 0$ and any coninuous function $f$ on $\\mathcal{S}_m$, there exist an integer $N$ and real constants $v_i$, $b_i$ amd real vectors $w_i$ that\n",
        "\n",
        "$$\\left| \\sum _{i=1}^{N}v_{i}\\sigma \\left( w_i^{T} x+b_i \\right) - f(x) \\right| < \\varepsilon, ~~~ \\forall x \\in \\mathcal{S}_m.$$\n",
        "\n",
        "The theorem has non-constructive proof, it meams that no estimates for $N$ and no method to find approximation's parameters.\n",
        "\n",
        "#### Exercises\n",
        "1. Let $\\sigma$ – [heaviside step function](https://en.wikipedia.org/wiki/Heaviside_step_function) and $x \\in \\{0, 1\\}^2$. Prove that $y = \\sigma(wx + b)$ can approximate boolean function **OR** (hint: use constructive proof).\n",
        "2. What about **AND** function?\n",
        "3. Is it possible to implement **XOR**? Prove your words.\n",
        "4. Prove that 2-layer network can implement any boolean function.\n",
        "\n",
        "#### More useful facts:\n",
        "1. A 2-layer network in in $\\mathbb{R}^n$ allows to define convex polyhedron..\n",
        "2. A 3-layer network in в $\\mathbb{R}^n$ allows to define a not necessarily convex and not even necessarily connected area."
      ]
    },
    {
      "cell_type": "markdown",
      "metadata": {
        "id": "jQXD05-R1tKB"
      },
      "source": [
        "2. "
      ]
    },
    {
      "cell_type": "markdown",
      "metadata": {
        "id": "gHXmuKbLeG5G"
      },
      "source": [
        "3.![image.png](data:image/png;base64,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)"
      ]
    },
    {
      "cell_type": "markdown",
      "metadata": {
        "id": "M8jP4SbwK3Ym"
      },
      "source": [
        "### 3. Backpropagation\n",
        "Backpropagation is a method used to calculate the error contribution of each layer after a batch of data. It is a special case of an older and more general technique called automatic differentiation. In the context of learning, backpropagation is commonly used by the gradient descent optimization algorithm to adjust the weight of layers by calculating the gradient of the loss function. This technique is also sometimes called backward propagation of errors, because the error is calculated at the output and distributed back through the network layers. The main motivation of method is simplify evaluation of gradient which is complex problem for multilayer nets.\n",
        "\n",
        "We need the following notation. Let $(y^1,\\dots,y^n) = f(x^1,\\dots,x^n)$ is some differentiable function and $\\frac{dy}{dx}$ is matrix\n",
        "$$\\frac{dy}{dx} = \\Big[ J_{ij} = \\frac{\\partial y^i}{\\partial x^j} \\Big]$$\n",
        "\n",
        "Without violating the generality, we can assume that each layer is a function $x_{i} = f(x_{i-1}, w_i)$. As last layer we add loss function, so we can assume our multi-layer net as function $Q(x_0) = Q(f_n(f_{n-1}(\\dots, w_{n-1}), w_n))$.\n",
        "\n",
        "#### Forward step\n",
        "Propagation forward through the network to generate the output values. Calculation of the loss function.\n",
        "\n",
        "#### Backward step\n",
        "Let's look at last layer. We can simply find $\\frac{dQ}{dx_n}$. Now we can evaluate \n",
        "\n",
        "$$\\frac{dQ}{dw_n} = \\frac{dQ}{dx_n}\\frac{dx_n}{dw_n} \\text{ and } \\frac{dQ}{dx_{n-1}} = \\frac{dQ}{dx_n}\\frac{dx_n}{dx_{n-1}}$$\n",
        "\n",
        "Now we need calculate $\\frac{dQ}{dw_{n-2}}$ и $\\frac{dQ}{dx_{n-2}}$. But we have the same situation. We know $\\frac{dQ}{dx_k}$, so can evaluate $\\frac{dQ}{dw_k}$ and $\\frac{dQ}{dx_{k-1}}$. Repeating this operation we find all the gradients. Now it's only remains to make a gradient step to update weights.\n",
        "\n",
        "#### Exercises\n",
        "1. Read more about [vanishing gradient](https://en.wikipedia.org/wiki/Vanishing_gradient_problem).\n",
        "2. Train 2 layer net. Use sigmoid as nonlinearity.\n",
        "3. Check accuracy on validation set.\n",
        "4. Use [ReLu](https://en.wikipedia.org/wiki/Rectifier_(neural_networks) or LeakyReLu as nonlinearity. Compare accuracy and convergence with previous model.\n",
        "5. Play with different architectures (add more layers, regularization and etc).\n",
        "6. Show your best model.\n",
        "7. How does quality change with adding layers. Prove your words, train model for 2, 3, 5, 7 and 10 layers.\n",
        "8. Using backpropagation find optimal  digit 8 for your net.*"
      ]
    },
    {
      "cell_type": "code",
      "metadata": {
        "id": "UjRqK4kv141c"
      },
      "source": [
        "input_size = 784\n",
        "hidden_size = 128\n",
        "output_size = 10\n",
        "\n",
        "model_1 = nn.Sequential(nn.Linear(input_size, hidden_size),\n",
        "                        nn.Sigmoid(),\n",
        "                        nn.Linear(hidden_size, output_size),\n",
        "                        nn.Softmax(dim=1))\n",
        "\n",
        "model_2 = nn.Sequential(nn.Linear(input_size, hidden_size),\n",
        "                        nn.ReLU(),\n",
        "                        nn.Linear(hidden_size, output_size),\n",
        "                        nn.Softmax(dim=1))\n",
        "\n",
        "model_3 = nn.Sequential(nn.Linear(input_size, hidden_size),\n",
        "                        nn.LeakyReLU(),\n",
        "                        nn.Linear(hidden_size, output_size),\n",
        "                        nn.Softmax(dim=1))"
      ],
      "execution_count": null,
      "outputs": []
    },
    {
      "cell_type": "code",
      "metadata": {
        "id": "H7jur5ar5Lkp"
      },
      "source": [
        "def fit_model(mod):\n",
        "    print(mod[1])\n",
        "    \n",
        "    optimizer = optim.Adam(mod.parameters(), lr=0.001, betas=(0.9, 0.999), eps=1e-08, weight_decay=0, amsgrad=False)\n",
        "    time0 = time()\n",
        "    epochs = 10\n",
        "    for e in range(epochs):\n",
        "        for images, labels in trainloader:\n",
        "            images = images.view(images.shape[0], -1)\n",
        "            optimizer.zero_grad()\n",
        "            output = mod(images)\n",
        "            loss = nn.NLLLoss()(output, labels)\n",
        "            loss.backward()\n",
        "            optimizer.step()\n",
        "\n",
        "    print(\"Время обучения = \", (time()-time0) / 60, sep='')"
      ],
      "execution_count": null,
      "outputs": []
    },
    {
      "cell_type": "code",
      "metadata": {
        "id": "misWotkM5mjq"
      },
      "source": [
        "def count_accuracy(mod):\n",
        "    print(mod[1])\n",
        "    \n",
        "    correct_count, all_count = 0, 0\n",
        "    for images, labels in valloader:\n",
        "        for i in range(len(labels)):\n",
        "            img = images[i].view(1, 784)\n",
        "            with torch.no_grad():\n",
        "                logps = mod(img)\n",
        "    \n",
        "            ps = torch.exp(logps)\n",
        "            probab = list(ps.numpy()[0])\n",
        "            pred_label = probab.index(max(probab))\n",
        "            true_label = labels.numpy()[i]\n",
        "            if (true_label == pred_label):\n",
        "                correct_count += 1\n",
        "            all_count += 1\n",
        "\n",
        "    print(\"Accuracy на валидационной выборке = %.4f\" % (correct_count / all_count))"
      ],
      "execution_count": null,
      "outputs": []
    },
    {
      "cell_type": "code",
      "metadata": {
        "colab": {
          "base_uri": "https://localhost:8080/"
        },
        "id": "A0dFRueM15CS",
        "outputId": "98e20ed3-158d-4ca6-e64a-c449c8be03ad"
      },
      "source": [
        "fit_model(model_1)\n",
        "fit_model(model_2)\n",
        "fit_model(model_3)"
      ],
      "execution_count": null,
      "outputs": [
        {
          "output_type": "stream",
          "text": [
            "Sigmoid()\n",
            "Время обучения = 2.3126936157544455\n",
            "ReLU()\n",
            "Время обучения = 2.4037567377090454\n",
            "LeakyReLU(negative_slope=0.01)\n",
            "Время обучения = 2.315305991967519\n"
          ],
          "name": "stdout"
        }
      ]
    },
    {
      "cell_type": "code",
      "metadata": {
        "colab": {
          "base_uri": "https://localhost:8080/"
        },
        "id": "jolpl5_77cCl",
        "outputId": "4c6ade1f-1a82-410c-a039-69c750da5887"
      },
      "source": [
        "count_accuracy(model_1)\n",
        "count_accuracy(model_2)\n",
        "count_accuracy(model_3)"
      ],
      "execution_count": null,
      "outputs": [
        {
          "output_type": "stream",
          "text": [
            "Sigmoid()\n",
            "Accuracy на валидационной выборке = 0.9737\n",
            "ReLU()\n",
            "Accuracy на валидационной выборке = 0.9541\n",
            "LeakyReLU(negative_slope=0.01)\n",
            "Accuracy на валидационной выборке = 0.9629\n"
          ],
          "name": "stdout"
        }
      ]
    },
    {
      "cell_type": "markdown",
      "metadata": {
        "id": "45AfxqG7Zgdc"
      },
      "source": [
        "Уменьшим размер скрытого слоя, иначе мы умрем считать"
      ]
    },
    {
      "cell_type": "code",
      "metadata": {
        "id": "JAxvQQ6R7w8t"
      },
      "source": [
        "hidden_size = 32\n",
        "\n",
        "model2 = nn.Sequential(nn.Linear(input_size, hidden_size),\n",
        "                        nn.LeakyReLU(),\n",
        "                        nn.Linear(hidden_size, output_size),\n",
        "                        nn.Softmax(dim=1))\n",
        "\n",
        "model3 = nn.Sequential(nn.Linear(input_size, hidden_size),\n",
        "                        nn.LeakyReLU(),\n",
        "                        nn.Linear(hidden_size, hidden_size),\n",
        "                        nn.LeakyReLU(),\n",
        "                        nn.Linear(hidden_size, output_size),\n",
        "                        nn.Softmax(dim=1))\n",
        "\n",
        "model5 = nn.Sequential(nn.Linear(input_size, hidden_size),\n",
        "                        nn.LeakyReLU(),\n",
        "                        nn.Linear(hidden_size, hidden_size),\n",
        "                        nn.LeakyReLU(),\n",
        "                        nn.Linear(hidden_size, hidden_size),\n",
        "                        nn.LeakyReLU(),\n",
        "                        nn.Linear(hidden_size, hidden_size),\n",
        "                        nn.LeakyReLU(),\n",
        "                        nn.Linear(hidden_size, output_size),\n",
        "                        nn.Softmax(dim=1))\n",
        "\n",
        "model7 = nn.Sequential(nn.Linear(input_size, hidden_size),\n",
        "                        nn.LeakyReLU(),\n",
        "                        nn.Linear(hidden_size, hidden_size),\n",
        "                        nn.LeakyReLU(),\n",
        "                        nn.Linear(hidden_size, hidden_size),\n",
        "                        nn.LeakyReLU(),\n",
        "                        nn.Linear(hidden_size, hidden_size),\n",
        "                        nn.LeakyReLU(),\n",
        "                        nn.Linear(hidden_size, hidden_size),\n",
        "                        nn.LeakyReLU(),\n",
        "                        nn.Linear(hidden_size, hidden_size),\n",
        "                        nn.LeakyReLU(),\n",
        "                        nn.Linear(hidden_size, output_size),\n",
        "                        nn.Softmax(dim=1))\n",
        "\n",
        "model10 = nn.Sequential(nn.Linear(input_size, hidden_size),\n",
        "                        nn.LeakyReLU(),\n",
        "                        nn.Linear(hidden_size, hidden_size),\n",
        "                        nn.LeakyReLU(),\n",
        "                        nn.Linear(hidden_size, hidden_size),\n",
        "                        nn.LeakyReLU(),\n",
        "                        nn.Linear(hidden_size, hidden_size),\n",
        "                        nn.LeakyReLU(),\n",
        "                        nn.Linear(hidden_size, hidden_size),\n",
        "                        nn.LeakyReLU(),\n",
        "                        nn.Linear(hidden_size, hidden_size),\n",
        "                        nn.LeakyReLU(),\n",
        "                        nn.Linear(hidden_size, hidden_size),\n",
        "                        nn.LeakyReLU(),\n",
        "                        nn.Linear(hidden_size, hidden_size),\n",
        "                        nn.LeakyReLU(),\n",
        "                        nn.Linear(hidden_size, hidden_size),\n",
        "                        nn.LeakyReLU(),\n",
        "                        nn.Linear(hidden_size, output_size),\n",
        "                        nn.Softmax(dim=1))"
      ],
      "execution_count": null,
      "outputs": []
    },
    {
      "cell_type": "code",
      "metadata": {
        "colab": {
          "base_uri": "https://localhost:8080/"
        },
        "id": "NsluvgD87xBi",
        "outputId": "a2bfa27b-09ac-4147-b8be-47ab527a5f67"
      },
      "source": [
        "fit_model(model2)\n",
        "fit_model(model3)\n",
        "fit_model(model5)\n",
        "fit_model(model7)\n",
        "fit_model(model10)"
      ],
      "execution_count": null,
      "outputs": [
        {
          "output_type": "stream",
          "text": [
            "LeakyReLU(negative_slope=0.01)\n",
            "Время обучения = 2.104679588476817\n",
            "LeakyReLU(negative_slope=0.01)\n",
            "Время обучения = 2.172405509154002\n",
            "LeakyReLU(negative_slope=0.01)\n",
            "Время обучения = 2.263825233777364\n",
            "LeakyReLU(negative_slope=0.01)\n",
            "Время обучения = 2.3958370367685955\n",
            "LeakyReLU(negative_slope=0.01)\n",
            "Время обучения = 2.6892333666483563\n"
          ],
          "name": "stdout"
        }
      ]
    },
    {
      "cell_type": "code",
      "metadata": {
        "colab": {
          "base_uri": "https://localhost:8080/"
        },
        "id": "JpVAhnU_ZwGm",
        "outputId": "34815daa-c734-40d2-e4a4-12a591019c13"
      },
      "source": [
        "print('2 слоя с LeakyReLU:')\n",
        "count_accuracy(model2)\n",
        "print('3 слоя с LeakyReLU:')\n",
        "count_accuracy(model3)\n",
        "print('5 слоев с LeakyReLU:')\n",
        "count_accuracy(model5)\n",
        "print('7 слоев с LeakyReLU:')\n",
        "count_accuracy(model7)\n",
        "print('10 слоев с LeakyReLU:')\n",
        "count_accuracy(model10)"
      ],
      "execution_count": null,
      "outputs": [
        {
          "output_type": "stream",
          "text": [
            "2 слоя с LeakyReLU:\n",
            "LeakyReLU(negative_slope=0.01)\n",
            "Accuracy на валидационной выборке = 0.8481\n",
            "3 слоя с LeakyReLU:\n",
            "LeakyReLU(negative_slope=0.01)\n",
            "Accuracy на валидационной выборке = 0.9472\n",
            "5 слоев с LeakyReLU:\n",
            "LeakyReLU(negative_slope=0.01)\n",
            "Accuracy на валидационной выборке = 0.9441\n",
            "7 слоев с LeakyReLU:\n",
            "LeakyReLU(negative_slope=0.01)\n",
            "Accuracy на валидационной выборке = 0.9146\n",
            "10 слоев с LeakyReLU:\n",
            "LeakyReLU(negative_slope=0.01)\n",
            "Accuracy на валидационной выборке = 0.6316\n"
          ],
          "name": "stdout"
        }
      ]
    },
    {
      "cell_type": "markdown",
      "metadata": {
        "id": "xxpEaqlJrQxS"
      },
      "source": [
        "Можем заметить, что сначала с увеличением слоев каечство растет. а затем падает. В нашем случае оптимальное количество слоев вышло = 3. Далее с ростом количества слое нейронная сеть переобучается и выдет более плохие результаты на валидационной выборке. Проверим свою гипотезу и посчитаем качество на обучающей выборке."
      ]
    },
    {
      "cell_type": "code",
      "metadata": {
        "id": "KyxesJlYrtLZ"
      },
      "source": [
        "def count_accuracy_train(mod):\n",
        "    correct_count, all_count = 0, 0\n",
        "    for images, labels in trainloader:\n",
        "        for i in range(len(labels)):\n",
        "            img = images[i].view(1, 784)\n",
        "            with torch.no_grad():\n",
        "                logps = mod(img)\n",
        "    \n",
        "            ps = torch.exp(logps)\n",
        "            probab = list(ps.numpy()[0])\n",
        "            pred_label = probab.index(max(probab))\n",
        "            true_label = labels.numpy()[i]\n",
        "            if (true_label == pred_label):\n",
        "                correct_count += 1\n",
        "            all_count += 1\n",
        "\n",
        "    print(\"Accuracy на обучающей выборке = %.4f\" % (correct_count / all_count))"
      ],
      "execution_count": null,
      "outputs": []
    },
    {
      "cell_type": "code",
      "metadata": {
        "colab": {
          "base_uri": "https://localhost:8080/"
        },
        "id": "vVsrZ5PDr3NO",
        "outputId": "8ae4f1b2-7e8f-43c6-ffc1-ed1df35dd22b"
      },
      "source": [
        "print('2 слоя с LeakyReLU:')\n",
        "count_accuracy_train(model2)\n",
        "print('3 слоя с LeakyReLU:')\n",
        "count_accuracy_train(model3)\n",
        "print('5 слоев с LeakyReLU:')\n",
        "count_accuracy_train(model5)\n",
        "print('7 слоев с LeakyReLU:')\n",
        "count_accuracy_train(model7)\n",
        "print('10 слоев с LeakyReLU:')\n",
        "count_accuracy_train(model10)"
      ],
      "execution_count": null,
      "outputs": [
        {
          "output_type": "stream",
          "text": [
            "2 слоя с LeakyReLU:\n",
            "Accuracy на обучающей выборке = 0.8499\n",
            "3 слоя с LeakyReLU:\n",
            "Accuracy на обучающей выборке = 0.9493\n",
            "5 слоев с LeakyReLU:\n",
            "Accuracy на обучающей выборке = 0.9405\n",
            "7 слоев с LeakyReLU:\n",
            "Accuracy на обучающей выборке = 0.9137\n",
            "10 слоев с LeakyReLU:\n",
            "Accuracy на обучающей выборке = 0.6288\n"
          ],
          "name": "stdout"
        }
      ]
    },
    {
      "cell_type": "markdown",
      "metadata": {
        "id": "JGfQ0tS6snKj"
      },
      "source": [
        "Ан, нет..."
      ]
    },
    {
      "cell_type": "markdown",
      "metadata": {
        "id": "IwbT9SsRK3Ym"
      },
      "source": [
        "### 4. Autoencoders\n",
        "An autoencoder is an network used for unsupervised learning of efficient codings. The aim of an autoencoder is to learn a representation (encoding) for a set of data, typically for the purpose of dimensionality reduction. Also, this technique can be used to train deep nets.\n",
        "\n",
        "Architecturally, the simplest form of an autoencoder is a feedforward net very similar to the multilayer perceptron (MLP), but with the output layer having the same number of nodes as the input layer, and with the purpose of reconstructing its own inputs. Therefore, autoencoders are unsupervised learning models. An autoencoder always consists of two parts, the encoder and the decoder. Encoder returns latent representation of the object (compressed representation, usuallu smaller dimension), but decoder restores object from this latent representation. Autoencoders are also trained to minimise reconstruction errors (e.g. MSE).\n",
        "\n"
      ]
    }
  ]
}